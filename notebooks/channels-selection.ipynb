{
 "cells": [
  {
   "cell_type": "code",
   "execution_count": 201,
   "metadata": {
    "ExecuteTime": {
     "end_time": "2025-01-07T19:09:46.591870Z",
     "start_time": "2025-01-07T19:09:41.898184Z"
    },
    "execution": {
     "iopub.execute_input": "2025-01-13T03:20:46.572824Z",
     "iopub.status.busy": "2025-01-13T03:20:46.572526Z",
     "iopub.status.idle": "2025-01-13T03:20:46.578183Z",
     "shell.execute_reply": "2025-01-13T03:20:46.577488Z",
     "shell.execute_reply.started": "2025-01-13T03:20:46.572801Z"
    },
    "scrolled": true,
    "trusted": true
   },
   "outputs": [],
   "source": [
    "import torch\n",
    "import torch.nn as nn\n",
    "import torch.nn.functional as F\n",
    "import torch.optim as optim\n",
    "import numpy as np\n",
    "from torch.optim.lr_scheduler import (\n",
    "    OneCycleLR,\n",
    "    CosineAnnealingLR,\n",
    "    ReduceLROnPlateau\n",
    ")\n",
    "from pandas import DataFrame\n",
    "import torchvision\n",
    "from torchvision import transforms\n",
    "from torch.utils.data import Dataset\n",
    "from torch.utils.data import DataLoader\n",
    "from torchvision.utils import make_grid\n",
    "import os\n",
    "import pandas as pd\n",
    "from PIL import Image\n",
    "import matplotlib.pyplot as plt\n",
    "from sklearn.model_selection import train_test_split"
   ]
  },
  {
   "cell_type": "code",
   "execution_count": 202,
   "metadata": {
    "execution": {
     "iopub.execute_input": "2025-01-13T03:20:46.602313Z",
     "iopub.status.busy": "2025-01-13T03:20:46.602119Z",
     "iopub.status.idle": "2025-01-13T03:20:46.609216Z",
     "shell.execute_reply": "2025-01-13T03:20:46.608594Z",
     "shell.execute_reply.started": "2025-01-13T03:20:46.602296Z"
    },
    "trusted": true
   },
   "outputs": [
    {
     "data": {
      "text/plain": [
       "<torch._C.Generator at 0x7f1fa5c84ab0>"
      ]
     },
     "execution_count": 202,
     "metadata": {},
     "output_type": "execute_result"
    }
   ],
   "source": [
    "DATA_PATH = '/kaggle/input/dog-vs-cat-vs-bird/dataset/'\n",
    "IMAGES_PATH = DATA_PATH + 'train/'\n",
    "LABEL_PATH = DATA_PATH + 'train.csv'\n",
    "OUTPUT_PATH = '/kaggle/working/'\n",
    "# DATA_PATH = './dog-vs-cat-vs-bird/dataset/'\n",
    "# IMAGES_PATH = DATA_PATH + 'train/'\n",
    "# LABEL_PATH = DATA_PATH + 'train.csv'\n",
    "# OUTPUT_PATH = './models/'\n",
    "\n",
    "RANDOM_STATE = 42\n",
    "TRAIN_SIZE = 0.8\n",
    "EPOCHS = 200\n",
    "MODEL_NUM_OFFSET = 0\n",
    "BATCH_SIZE = 64\n",
    "WEIGHTED_CONV = True\n",
    "DEVICE = torch.device(\"cuda\" if torch.cuda.is_available() else \"cpu\")\n",
    "\n",
    "torch.manual_seed(RANDOM_STATE)"
   ]
  },
  {
   "cell_type": "markdown",
   "metadata": {},
   "source": [
    "# Dataset"
   ]
  },
  {
   "cell_type": "code",
   "execution_count": 203,
   "metadata": {
    "ExecuteTime": {
     "end_time": "2025-01-07T19:24:03.523193Z",
     "start_time": "2025-01-07T19:24:03.507873Z"
    },
    "execution": {
     "iopub.execute_input": "2025-01-13T03:20:46.621011Z",
     "iopub.status.busy": "2025-01-13T03:20:46.620788Z",
     "iopub.status.idle": "2025-01-13T03:20:46.625715Z",
     "shell.execute_reply": "2025-01-13T03:20:46.624923Z",
     "shell.execute_reply.started": "2025-01-13T03:20:46.620993Z"
    },
    "trusted": true
   },
   "outputs": [],
   "source": [
    "class CustomDataset(Dataset):\n",
    "    def __init__(self, dataframe, img_dir_path, transform):\n",
    "        self.df = dataframe\n",
    "        self.img_dir_path = img_dir_path\n",
    "        self.transform = transform\n",
    "\n",
    "    def __len__(self):\n",
    "        return len(self.df)\n",
    "\n",
    "    def __getitem__(self, idx):\n",
    "        row = self.df.iloc[idx]\n",
    "        img_name = row['filename']        \n",
    "        img_path = os.path.join(self.img_dir_path, img_name)\n",
    "        \n",
    "        img = Image.open(img_path).convert(\"RGB\")\n",
    "        if self.transform:\n",
    "            img = self.transform(img)\n",
    "        label = row['label']\n",
    "        \n",
    "        return img, label"
   ]
  },
  {
   "cell_type": "code",
   "execution_count": 204,
   "metadata": {
    "execution": {
     "iopub.execute_input": "2025-01-13T03:20:46.638635Z",
     "iopub.status.busy": "2025-01-13T03:20:46.638424Z",
     "iopub.status.idle": "2025-01-13T03:20:46.667398Z",
     "shell.execute_reply": "2025-01-13T03:20:46.666747Z",
     "shell.execute_reply.started": "2025-01-13T03:20:46.638617Z"
    },
    "trusted": true
   },
   "outputs": [],
   "source": [
    "class_to_index = {'cat': 0, 'dog': 1, 'bird': 2, }\n",
    "\n",
    "df = pd.read_csv(LABEL_PATH)\n",
    "df['label'] = df['label'].apply(lambda x: class_to_index[x])\n",
    "train_df, val_df = train_test_split(\n",
    "    df,\n",
    "    test_size=1 - TRAIN_SIZE,\n",
    "    random_state=RANDOM_STATE,\n",
    "    shuffle=True\n",
    ")\n",
    "\n",
    "preprocess = transforms.Compose([\n",
    "    transforms.ToTensor(),\n",
    "    # transforms.RandomResizedCrop(32),         \n",
    "    # transforms.RandomHorizontalFlip(p=0.5), \n",
    "    # transforms.RandomRotation(degrees=15),\n",
    "    # transforms.ColorJitter(\n",
    "    #     brightness=0.2,\n",
    "    #     contrast=0.2,\n",
    "    #     saturation=0.2,\n",
    "    #     hue=0.1\n",
    "    # ),\n",
    "    # transforms.Normalize(mean=[0.485, 0.456, 0.406], std=[0.229, 0.224, 0.225]),\n",
    "])\n",
    "\n",
    "# apply this on gpu instead\n",
    "preprocess2 = transforms.Compose([\n",
    "    # transforms.RandomResizedCrop(32, (0.08, 1.0)),         \n",
    "    # transforms.RandomHorizontalFlip(p=0.5), \n",
    "    # transforms.RandomRotation(degrees=10),\n",
    "    transforms.ColorJitter(\n",
    "        brightness=0.18,\n",
    "        contrast=0.18,\n",
    "        saturation=0.18,\n",
    "        hue=0.1\n",
    "    ),\n",
    "    transforms.RandomHorizontalFlip(),\n",
    "    transforms.RandomRotation(degrees=15),\n",
    "    transforms.RandomAffine(degrees=15, translate=(0.1, 0.1), scale=(0.9, 1.1), shear=6),\n",
    "    transforms.Normalize(mean=[0.485, 0.456, 0.406], std=[0.229, 0.224, 0.225]),\n",
    "])\n",
    "\n",
    "val_preprocess = transforms.Compose([\n",
    "    transforms.ToTensor(),\n",
    "    # transforms.Normalize(mean=[0.485, 0.456, 0.406], std=[0.229, 0.224, 0.225]),\n",
    "])\n",
    "\n",
    "val_preprocess2 = transforms.Compose([\n",
    "    # transforms.ToTensor(),\n",
    "    transforms.Normalize(mean=[0.485, 0.456, 0.406], std=[0.229, 0.224, 0.225]),\n",
    "])\n",
    "\n",
    "train_ds = CustomDataset(train_df, IMAGES_PATH, preprocess)\n",
    "val_ds = CustomDataset(val_df, IMAGES_PATH, val_preprocess)\n",
    "\n",
    "train_dl = DataLoader(\n",
    "    train_ds, \n",
    "    batch_size=BATCH_SIZE, \n",
    "    shuffle=True,\n",
    "    pin_memory=True,\n",
    "    num_workers=4,\n",
    "    prefetch_factor=2,\n",
    ")\n",
    "\n",
    "val_dl = DataLoader(\n",
    "    val_ds, \n",
    "    batch_size=BATCH_SIZE, \n",
    "    shuffle=False,\n",
    "    pin_memory=True,\n",
    "    num_workers=4,\n",
    "    prefetch_factor=2,\n",
    ")"
   ]
  },
  {
   "cell_type": "markdown",
   "metadata": {},
   "source": [
    "# Model"
   ]
  },
  {
   "cell_type": "markdown",
   "metadata": {},
   "source": [
    "Conv2d with bias=False and applied after BatchNorm2d"
   ]
  },
  {
   "cell_type": "code",
   "execution_count": 205,
   "metadata": {
    "execution": {
     "iopub.execute_input": "2025-01-13T03:20:46.668692Z",
     "iopub.status.busy": "2025-01-13T03:20:46.668460Z",
     "iopub.status.idle": "2025-01-13T03:20:46.673459Z",
     "shell.execute_reply": "2025-01-13T03:20:46.672624Z",
     "shell.execute_reply.started": "2025-01-13T03:20:46.668673Z"
    },
    "trusted": true
   },
   "outputs": [],
   "source": [
    "class BatchedConv2d(nn.Module):\n",
    "    def __init__(\n",
    "            self, \n",
    "            in_channels, \n",
    "            out_channels, \n",
    "            stride=1, \n",
    "            kernel_size=3, \n",
    "            padding=0,\n",
    "            groups=1\n",
    "        ): \n",
    "        super(BatchedConv2d, self).__init__()\n",
    "        self.conv = nn.Conv2d(\n",
    "            in_channels=in_channels,\n",
    "            out_channels=out_channels,\n",
    "            stride=stride,\n",
    "            kernel_size=kernel_size,\n",
    "            padding=padding,\n",
    "            groups=groups,\n",
    "            bias=False,\n",
    "        )\n",
    "        self.batch_norm = nn.BatchNorm2d(out_channels)\n",
    "\n",
    "    def forward(self, x):\n",
    "        out = self.conv(x)\n",
    "        out = self.batch_norm(out)\n",
    "        return out"
   ]
  },
  {
   "cell_type": "markdown",
   "metadata": {},
   "source": [
    "Apply different weighted sum on in_channels for each kernels (num kernels = out_channels).\n",
    "\n",
    "Avoiding typical pytorch conv2d which use sub kernels (num kernels = in_channels * out_channels)"
   ]
  },
  {
   "cell_type": "code",
   "execution_count": 206,
   "metadata": {
    "execution": {
     "iopub.execute_input": "2025-01-13T03:20:46.677771Z",
     "iopub.status.busy": "2025-01-13T03:20:46.677581Z",
     "iopub.status.idle": "2025-01-13T03:20:46.689595Z",
     "shell.execute_reply": "2025-01-13T03:20:46.688828Z",
     "shell.execute_reply.started": "2025-01-13T03:20:46.677754Z"
    },
    "trusted": true
   },
   "outputs": [],
   "source": [
    "class WeightedSumConv2d(nn.Module):\n",
    "    def __init__(\n",
    "            self, \n",
    "            in_channels, \n",
    "            out_channels, \n",
    "            stride=1, \n",
    "            kernel_size=3, \n",
    "            padding=0\n",
    "        ):\n",
    "        super(WeightedSumConv2d, self).__init__()\n",
    "        self.weighted_sum = nn.Conv2d(\n",
    "            in_channels, \n",
    "            out_channels, \n",
    "            kernel_size=1, \n",
    "            bias=False\n",
    "        )\n",
    "        self.batch_conv = BatchedConv2d(\n",
    "            in_channels=out_channels,\n",
    "            out_channels=out_channels,\n",
    "            stride=stride,\n",
    "            kernel_size=kernel_size,\n",
    "            padding=padding,\n",
    "            groups=out_channels\n",
    "        )\n",
    "\n",
    "    def forward(self, x):\n",
    "        x = self.weighted_sum(x)\n",
    "        x = self.batch_conv(x)\n",
    "        return x"
   ]
  },
  {
   "cell_type": "markdown",
   "metadata": {},
   "source": [
    "CNN model with residual"
   ]
  },
  {
   "cell_type": "code",
   "execution_count": 207,
   "metadata": {
    "execution": {
     "iopub.execute_input": "2025-01-13T03:20:46.695746Z",
     "iopub.status.busy": "2025-01-13T03:20:46.695530Z",
     "iopub.status.idle": "2025-01-13T03:20:46.705714Z",
     "shell.execute_reply": "2025-01-13T03:20:46.704909Z",
     "shell.execute_reply.started": "2025-01-13T03:20:46.695726Z"
    },
    "trusted": true
   },
   "outputs": [],
   "source": [
    "Conv = BatchedConv2d\n",
    "if WEIGHTED_CONV:\n",
    "    Conv = WeightedSumConv2d\n",
    "\n",
    "class BasicBlock(nn.Module):\n",
    "    def __init__(self, in_channels, out_channels, stride=1):\n",
    "        super(BasicBlock, self).__init__()\n",
    "        self.conv1 = Conv(in_channels, out_channels, kernel_size=3, stride=stride, padding=1)\n",
    "        self.conv2 = Conv(out_channels, out_channels, kernel_size=3, stride=1, padding=1)\n",
    "\n",
    "        self.downsample = nn.Sequential()\n",
    "        if stride != 1 or in_channels != out_channels:\n",
    "            self.downsample = Conv(in_channels, out_channels, kernel_size=1, stride=stride)\n",
    "\n",
    "    def forward(self, x):\n",
    "        identity = self.downsample(x)\n",
    "        out = F.relu(self.conv1(x))\n",
    "        out = self.conv2(out)\n",
    "        out += identity\n",
    "        return F.relu(out)\n",
    "        \n",
    "class Model(nn.Module):\n",
    "    def __init__(self, num_classes=3):\n",
    "        super(Model, self).__init__()\n",
    "        self.conv1 = nn.Conv2d(3, 16, kernel_size=3, stride=1, padding=1)\n",
    "        self.layer1 = nn.Sequential(\n",
    "            BasicBlock(16, 16, stride=1),\n",
    "            BasicBlock(16, 16, stride=1),\n",
    "            BasicBlock(16, 32, stride=2),\n",
    "            BasicBlock(32, 32, stride=1),\n",
    "            BasicBlock(32, 64, stride=2),\n",
    "            BasicBlock(64, 64, stride=1),\n",
    "        )\n",
    "        self.dropout = nn.Dropout(0.2)\n",
    "        self.fc = nn.Linear(64, num_classes)\n",
    "\n",
    "    def forward(self, x):\n",
    "        x = F.relu(self.conv1(x))\n",
    "        x = self.layer1(x)\n",
    "        x = F.adaptive_avg_pool2d(x, (1, 1))\n",
    "        x = torch.flatten(x, 1)\n",
    "        x = self.dropout(x)\n",
    "        x = self.fc(x)\n",
    "        return x"
   ]
  },
  {
   "cell_type": "code",
   "execution_count": 208,
   "metadata": {
    "execution": {
     "iopub.execute_input": "2025-01-13T03:20:46.716049Z",
     "iopub.status.busy": "2025-01-13T03:20:46.715774Z",
     "iopub.status.idle": "2025-01-13T03:20:46.721202Z",
     "shell.execute_reply": "2025-01-13T03:20:46.720584Z",
     "shell.execute_reply.started": "2025-01-13T03:20:46.716030Z"
    },
    "trusted": true
   },
   "outputs": [],
   "source": [
    "# img = torch.rand(4, 3, 32, 32)\n",
    "# model = Model()\n",
    "# model(img).shape"
   ]
  },
  {
   "cell_type": "markdown",
   "metadata": {},
   "source": [
    "# Training & Validation"
   ]
  },
  {
   "cell_type": "code",
   "execution_count": 209,
   "metadata": {
    "execution": {
     "iopub.execute_input": "2025-01-13T03:20:46.737658Z",
     "iopub.status.busy": "2025-01-13T03:20:46.737470Z",
     "iopub.status.idle": "2025-01-13T03:20:46.744001Z",
     "shell.execute_reply": "2025-01-13T03:20:46.743343Z",
     "shell.execute_reply.started": "2025-01-13T03:20:46.737641Z"
    },
    "trusted": true
   },
   "outputs": [],
   "source": [
    "def train(model, dataloader, loss_func, optimizer, scheduler=None, device='cpu'):\n",
    "    model.train()\n",
    "    total_loss = 0.0\n",
    "    total_batches = len(dataloader)\n",
    "    for i, (data, target) in enumerate(dataloader):\n",
    "        data = data.to(device, non_blocking=True)\n",
    "        target = target.to(device, non_blocking=True)\n",
    "        # pytorch >= 1.7\n",
    "        optimizer.zero_grad(set_to_none=True)\n",
    "\n",
    "        data = preprocess2(data)\n",
    "\n",
    "        output = model(data)\n",
    "        loss = loss_func(output, target)\n",
    "        loss.backward()\n",
    "        optimizer.step()\n",
    "\n",
    "        # use this for OneCycleLR\n",
    "        # if isinstance(scheduler, OneCycleLR):\n",
    "        scheduler.step()\n",
    "            \n",
    "        total_loss += loss.detach()\n",
    "\n",
    "        if i % 10 == 0:\n",
    "            print(f\"Batch: {i}/{total_batches}\", end='\\r')\n",
    "\n",
    "    # if isinstance(scheduler, CosineAnnealingLR):\n",
    "    # scheduler.step()\n",
    "    torch.cuda.synchronize() \n",
    "    return (total_loss / total_batches).item()\n",
    "\n",
    "@torch.no_grad()\n",
    "def val(model, dataloader, loss_func, device='cpu'):\n",
    "    # print()\n",
    "    model.eval()\n",
    "    total_loss = 0.0\n",
    "    for i, (data, target) in enumerate(dataloader):\n",
    "        data = data.to(device, non_blocking=True)\n",
    "        target = target.to(device, non_blocking=True)\n",
    "\n",
    "        data = val_preprocess2(data)\n",
    "        \n",
    "        pred = model.forward(data)\n",
    "        total_loss += loss_func(pred, target).detach()\n",
    "        \n",
    "    torch.cuda.synchronize() \n",
    "    return (total_loss / len(dataloader)).item()"
   ]
  },
  {
   "cell_type": "markdown",
   "metadata": {},
   "source": [
    "Model initialization"
   ]
  },
  {
   "cell_type": "code",
   "execution_count": 210,
   "metadata": {
    "ExecuteTime": {
     "end_time": "2025-01-07T19:50:45.249874Z",
     "start_time": "2025-01-07T19:50:45.224069Z"
    },
    "execution": {
     "iopub.execute_input": "2025-01-13T03:20:46.759401Z",
     "iopub.status.busy": "2025-01-13T03:20:46.759191Z",
     "iopub.status.idle": "2025-01-13T03:20:46.774333Z",
     "shell.execute_reply": "2025-01-13T03:20:46.773446Z",
     "shell.execute_reply.started": "2025-01-13T03:20:46.759383Z"
    },
    "trusted": true
   },
   "outputs": [],
   "source": [
    "model = Model()\n",
    "if torch.cuda.device_count() > 1:\n",
    "    model = nn.DataParallel(model)\n",
    "model.to(DEVICE)\n",
    "\n",
    "# try:\n",
    "#     model = torch.compile(model, mode=\"reduce-overhead\")\n",
    "# except Exception as e:\n",
    "#     print(f\"Compilation failed: {e}\")\n",
    "#     print(\"Falling back to eager mode\")\n",
    "\n",
    "loss_func = F.cross_entropy\n",
    "optimizer = optim.AdamW(model.parameters(), lr=0.001)\n",
    "scheduler = OneCycleLR(\n",
    "    optimizer,\n",
    "    max_lr=1e-3,\n",
    "    epochs=EPOCHS,\n",
    "    steps_per_epoch=len(train_dl),\n",
    "    pct_start=0.3,\n",
    "    div_factor=25,\n",
    "    final_div_factor=1000,\n",
    ")\n",
    "\n",
    "# Option 2: CosineAnnealingLR (For longer traning run)\n",
    "# scheduler = CosineAnnealingLR(\n",
    "#     optimizer,\n",
    "#     T_max=EPOCHS,\n",
    "#     eta_min=1e-6\n",
    "# )"
   ]
  },
  {
   "cell_type": "markdown",
   "metadata": {},
   "source": [
    "Number of parameters"
   ]
  },
  {
   "cell_type": "code",
   "execution_count": 211,
   "metadata": {
    "execution": {
     "iopub.execute_input": "2025-01-13T03:20:46.821709Z",
     "iopub.status.busy": "2025-01-13T03:20:46.821477Z",
     "iopub.status.idle": "2025-01-13T03:20:46.826747Z",
     "shell.execute_reply": "2025-01-13T03:20:46.825993Z",
     "shell.execute_reply.started": "2025-01-13T03:20:46.821690Z"
    },
    "trusted": true
   },
   "outputs": [
    {
     "data": {
      "text/plain": [
       "27363"
      ]
     },
     "execution_count": 211,
     "metadata": {},
     "output_type": "execute_result"
    }
   ],
   "source": [
    "sum(p.numel() for p in model.parameters() if p.requires_grad)\n",
    "# model_parameters = filter(lambda p: p.requires_grad, model.parameters())\n",
    "# params = sum([np.prod(p.size()) for p in model_parameters])\n",
    "# params"
   ]
  },
  {
   "cell_type": "markdown",
   "metadata": {},
   "source": [
    "Training and Validation Loop"
   ]
  },
  {
   "cell_type": "code",
   "execution_count": 212,
   "metadata": {
    "ExecuteTime": {
     "start_time": "2025-01-07T19:50:46.701191Z"
    },
    "execution": {
     "iopub.execute_input": "2025-01-13T03:20:46.928068Z",
     "iopub.status.busy": "2025-01-13T03:20:46.927792Z",
     "iopub.status.idle": "2025-01-13T03:49:07.074193Z",
     "shell.execute_reply": "2025-01-13T03:49:07.072765Z",
     "shell.execute_reply.started": "2025-01-13T03:20:46.928046Z"
    },
    "jupyter": {
     "is_executing": true
    },
    "trusted": true
   },
   "outputs": [
    {
     "name": "stdout",
     "output_type": "stream",
     "text": [
      "Epoch 0 \t Train: 1.10804  Val: 1.08889  Diff: 0.01915 \t lr: 0.00004066\n",
      "Epoch 1 \t Train: 1.08521  Val: 1.07304  Diff: 0.01218 \t lr: 0.00004263\n",
      "Epoch 2 \t Train: 1.06847  Val: 1.07963  Diff: -0.01116 \t lr: 0.00004591\n",
      "Epoch 3 \t Train: 1.05371  Val: 1.07069  Diff: -0.01698 \t lr: 0.00005049\n",
      "Epoch 4 \t Train: 1.04480  Val: 1.07123  Diff: -0.02643 \t lr: 0.00005636\n",
      "Epoch 5 \t Train: 1.02736  Val: 1.06137  Diff: -0.03401 \t lr: 0.00006350\n",
      "Epoch 6 \t Train: 1.00707  Val: 1.02408  Diff: -0.01701 \t lr: 0.00007189\n",
      "Epoch 7 \t Train: 0.99555  Val: 1.01728  Diff: -0.02173 \t lr: 0.00008151\n",
      "Epoch 8 \t Train: 0.98714  Val: 0.99611  Diff: -0.00897 \t lr: 0.00009233\n",
      "Epoch 9 \t Train: 0.97157  Val: 0.99256  Diff: -0.02099 \t lr: 0.00010432\n",
      "Epoch 10 \t Train: 0.96391  Val: 0.94466  Diff: 0.01926 \t lr: 0.00011745\n",
      "Epoch 11 \t Train: 0.96008  Val: 0.94997  Diff: 0.01011 \t lr: 0.00013169\n",
      "Epoch 12 \t Train: 0.93518  Val: 0.94857  Diff: -0.01339 \t lr: 0.00014699\n",
      "Epoch 13 \t Train: 0.92944  Val: 0.94556  Diff: -0.01612 \t lr: 0.00016332\n",
      "Epoch 14 \t Train: 0.91452  Val: 0.91630  Diff: -0.00177 \t lr: 0.00018062\n",
      "Epoch 15 \t Train: 0.91108  Val: 0.90948  Diff: 0.00160 \t lr: 0.00019885\n",
      "Epoch 16 \t Train: 0.89420  Val: 0.89386  Diff: 0.00033 \t lr: 0.00021796\n",
      "Epoch 17 \t Train: 0.88894  Val: 0.90110  Diff: -0.01216 \t lr: 0.00023790\n",
      "Epoch 18 \t Train: 0.87680  Val: 0.89813  Diff: -0.02132 \t lr: 0.00025862\n",
      "Epoch 19 \t Train: 0.86389  Val: 0.86148  Diff: 0.00242 \t lr: 0.00028005\n",
      "Epoch 20 \t Train: 0.85343  Val: 0.88611  Diff: -0.03268 \t lr: 0.00030214\n",
      "Epoch 21 \t Train: 0.84255  Val: 0.94828  Diff: -0.10572 \t lr: 0.00032482\n",
      "Epoch 22 \t Train: 0.83874  Val: 0.84437  Diff: -0.00564 \t lr: 0.00034804\n",
      "Epoch 23 \t Train: 0.83780  Val: 0.85554  Diff: -0.01774 \t lr: 0.00037174\n",
      "Epoch 24 \t Train: 0.82337  Val: 0.84332  Diff: -0.01995 \t lr: 0.00039583\n",
      "Epoch 25 \t Train: 0.80913  Val: 0.90124  Diff: -0.09211 \t lr: 0.00042027\n",
      "Epoch 26 \t Train: 0.79683  Val: 0.85106  Diff: -0.05423 \t lr: 0.00044499\n",
      "Epoch 27 \t Train: 0.79311  Val: 0.86323  Diff: -0.07012 \t lr: 0.00046990\n",
      "Epoch 28 \t Train: 0.79056  Val: 0.82873  Diff: -0.03817 \t lr: 0.00049496\n",
      "Epoch 29 \t Train: 0.78343  Val: 0.77183  Diff: 0.01160 \t lr: 0.00052008\n",
      "Epoch 30 \t Train: 0.76267  Val: 0.85665  Diff: -0.09397 \t lr: 0.00054521\n",
      "Epoch 31 \t Train: 0.76729  Val: 0.88133  Diff: -0.11404 \t lr: 0.00057026\n",
      "Epoch 32 \t Train: 0.74971  Val: 0.78758  Diff: -0.03787 \t lr: 0.00059518\n",
      "Epoch 33 \t Train: 0.74474  Val: 0.81479  Diff: -0.07005 \t lr: 0.00061989\n",
      "Epoch 34 \t Train: 0.73635  Val: 0.74608  Diff: -0.00973 \t lr: 0.00064433\n",
      "Epoch 35 \t Train: 0.72612  Val: 0.73191  Diff: -0.00578 \t lr: 0.00066842\n",
      "Epoch 36 \t Train: 0.72280  Val: 0.72852  Diff: -0.00572 \t lr: 0.00069211\n",
      "Epoch 37 \t Train: 0.70767  Val: 0.75893  Diff: -0.05126 \t lr: 0.00071533\n",
      "Epoch 38 \t Train: 0.72012  Val: 0.98462  Diff: -0.26451 \t lr: 0.00073801\n",
      "Epoch 39 \t Train: 0.69730  Val: 0.82692  Diff: -0.12961 \t lr: 0.00076010\n",
      "Epoch 40 \t Train: 0.69385  Val: 0.75198  Diff: -0.05813 \t lr: 0.00078152\n",
      "Epoch 41 \t Train: 0.68132  Val: 0.69010  Diff: -0.00878 \t lr: 0.00080223\n",
      "Epoch 42 \t Train: 0.67810  Val: 0.71142  Diff: -0.03332 \t lr: 0.00082217\n",
      "Epoch 43 \t Train: 0.66739  Val: 0.71672  Diff: -0.04934 \t lr: 0.00084127\n",
      "Epoch 44 \t Train: 0.66286  Val: 0.63383  Diff: 0.02903 \t lr: 0.00085950\n",
      "Epoch 45 \t Train: 0.66214  Val: 0.66208  Diff: 0.00006 \t lr: 0.00087680\n",
      "Epoch 46 \t Train: 0.65615  Val: 0.70500  Diff: -0.04886 \t lr: 0.00089311\n",
      "Epoch 47 \t Train: 0.64575  Val: 0.66851  Diff: -0.02276 \t lr: 0.00090841\n",
      "Epoch 48 \t Train: 0.64536  Val: 0.74647  Diff: -0.10111 \t lr: 0.00092264\n",
      "Epoch 49 \t Train: 0.64017  Val: 0.62685  Diff: 0.01331 \t lr: 0.00093576\n",
      "Epoch 50 \t Train: 0.62633  Val: 0.67956  Diff: -0.05323 \t lr: 0.00094775\n",
      "Epoch 51 \t Train: 0.61750  Val: 0.69712  Diff: -0.07962 \t lr: 0.00095856\n",
      "Epoch 52 \t Train: 0.62432  Val: 0.59215  Diff: 0.03217 \t lr: 0.00096817\n",
      "Epoch 53 \t Train: 0.61813  Val: 0.58875  Diff: 0.02939 \t lr: 0.00097655\n",
      "Epoch 54 \t Train: 0.60309  Val: 0.62076  Diff: -0.01767 \t lr: 0.00098368\n",
      "Epoch 55 \t Train: 0.59366  Val: 0.63304  Diff: -0.03939 \t lr: 0.00098954\n",
      "Epoch 56 \t Train: 0.59976  Val: 0.83208  Diff: -0.23232 \t lr: 0.00099412\n",
      "Epoch 57 \t Train: 0.58745  Val: 0.63659  Diff: -0.04914 \t lr: 0.00099739\n",
      "Epoch 58 \t Train: 0.59898  Val: 0.58619  Diff: 0.01279 \t lr: 0.00099935\n",
      "Epoch 59 \t Train: 0.57964  Val: 0.55978  Diff: 0.01986 \t lr: 0.00100000\n",
      "Epoch 60 \t Train: 0.57597  Val: 0.64315  Diff: -0.06719 \t lr: 0.00099987\n",
      "Epoch 61 \t Train: 0.57087  Val: 0.56957  Diff: 0.00130 \t lr: 0.00099949\n",
      "Epoch 62 \t Train: 0.56486  Val: 0.57626  Diff: -0.01140 \t lr: 0.00099886\n",
      "Epoch 63 \t Train: 0.55576  Val: 0.64371  Diff: -0.08796 \t lr: 0.00099798\n",
      "Epoch 64 \t Train: 0.55358  Val: 0.67379  Diff: -0.12020 \t lr: 0.00099685\n",
      "Epoch 65 \t Train: 0.54735  Val: 0.67525  Diff: -0.12791 \t lr: 0.00099547\n",
      "Epoch 66 \t Train: 0.55541  Val: 0.53911  Diff: 0.01629 \t lr: 0.00099383\n",
      "Epoch 67 \t Train: 0.54689  Val: 0.64522  Diff: -0.09833 \t lr: 0.00099195\n",
      "Epoch 68 \t Train: 0.54010  Val: 0.55316  Diff: -0.01307 \t lr: 0.00098982\n",
      "Epoch 69 \t Train: 0.54386  Val: 0.64822  Diff: -0.10436 \t lr: 0.00098745\n",
      "Epoch 70 \t Train: 0.52997  Val: 0.57468  Diff: -0.04471 \t lr: 0.00098483\n",
      "Epoch 71 \t Train: 0.52330  Val: 0.57947  Diff: -0.05617 \t lr: 0.00098196\n",
      "Epoch 72 \t Train: 0.51962  Val: 0.54928  Diff: -0.02965 \t lr: 0.00097885\n",
      "Epoch 73 \t Train: 0.52127  Val: 0.56004  Diff: -0.03876 \t lr: 0.00097551\n",
      "Epoch 74 \t Train: 0.52429  Val: 0.60320  Diff: -0.07891 \t lr: 0.00097192\n",
      "Epoch 75 \t Train: 0.51310  Val: 0.58354  Diff: -0.07044 \t lr: 0.00096809\n",
      "Epoch 76 \t Train: 0.50576  Val: 0.55719  Diff: -0.05143 \t lr: 0.00096403\n",
      "Epoch 77 \t Train: 0.50418  Val: 0.56615  Diff: -0.06197 \t lr: 0.00095974\n",
      "Epoch 78 \t Train: 0.51177  Val: 0.54824  Diff: -0.03647 \t lr: 0.00095521\n",
      "Epoch 79 \t Train: 0.50551  Val: 0.52869  Diff: -0.02319 \t lr: 0.00095045\n",
      "Epoch 80 \t Train: 0.49666  Val: 0.50863  Diff: -0.01197 \t lr: 0.00094547\n",
      "Epoch 81 \t Train: 0.48356  Val: 0.55846  Diff: -0.07490 \t lr: 0.00094026\n",
      "Epoch 82 \t Train: 0.48933  Val: 0.51496  Diff: -0.02563 \t lr: 0.00093484\n",
      "Epoch 83 \t Train: 0.49366  Val: 0.54975  Diff: -0.05609 \t lr: 0.00092919\n",
      "Epoch 84 \t Train: 0.50222  Val: 0.50029  Diff: 0.00193 \t lr: 0.00092333\n",
      "Epoch 85 \t Train: 0.47502  Val: 0.50475  Diff: -0.02972 \t lr: 0.00091725\n",
      "Epoch 86 \t Train: 0.48166  Val: 0.49126  Diff: -0.00960 \t lr: 0.00091096\n",
      "Epoch 87 \t Train: 0.47853  Val: 0.53548  Diff: -0.05695 \t lr: 0.00090447\n",
      "Epoch 88 \t Train: 0.46707  Val: 0.61186  Diff: -0.14479 \t lr: 0.00089777\n",
      "Epoch 89 \t Train: 0.46578  Val: 0.52726  Diff: -0.06149 \t lr: 0.00089087\n",
      "Epoch 90 \t Train: 0.46602  Val: 0.56691  Diff: -0.10089 \t lr: 0.00088378\n",
      "Epoch 91 \t Train: 0.46149  Val: 0.52684  Diff: -0.06535 \t lr: 0.00087649\n",
      "Epoch 92 \t Train: 0.46653  Val: 0.53889  Diff: -0.07236 \t lr: 0.00086901\n",
      "Epoch 93 \t Train: 0.46693  Val: 0.54270  Diff: -0.07576 \t lr: 0.00086135\n",
      "Epoch 94 \t Train: 0.45462  Val: 0.59425  Diff: -0.13964 \t lr: 0.00085351\n",
      "Epoch 95 \t Train: 0.46083  Val: 0.61212  Diff: -0.15129 \t lr: 0.00084548\n",
      "Epoch 96 \t Train: 0.45388  Val: 0.53727  Diff: -0.08339 \t lr: 0.00083729\n",
      "Epoch 97 \t Train: 0.44639  Val: 0.74204  Diff: -0.29565 \t lr: 0.00082892\n",
      "Epoch 98 \t Train: 0.46189  Val: 0.55673  Diff: -0.09484 \t lr: 0.00082039\n",
      "Epoch 99 \t Train: 0.45803  Val: 0.50538  Diff: -0.04735 \t lr: 0.00081169\n",
      "Epoch 100 \t Train: 0.45464  Val: 0.50129  Diff: -0.04666 \t lr: 0.00080284\n",
      "Epoch 101 \t Train: 0.44632  Val: 0.50314  Diff: -0.05682 \t lr: 0.00079384\n",
      "Epoch 102 \t Train: 0.43998  Val: 0.51936  Diff: -0.07938 \t lr: 0.00078469\n",
      "Epoch 103 \t Train: 0.43475  Val: 0.53125  Diff: -0.09650 \t lr: 0.00077540\n",
      "Epoch 104 \t Train: 0.44676  Val: 0.56438  Diff: -0.11762 \t lr: 0.00076596\n",
      "Epoch 105 \t Train: 0.43989  Val: 0.56259  Diff: -0.12270 \t lr: 0.00075640\n",
      "Epoch 106 \t Train: 0.43891  Val: 0.49850  Diff: -0.05959 \t lr: 0.00074670\n",
      "Epoch 107 \t Train: 0.42437  Val: 0.58571  Diff: -0.16135 \t lr: 0.00073688\n",
      "Epoch 108 \t Train: 0.42674  Val: 0.48449  Diff: -0.05774 \t lr: 0.00072694\n",
      "Epoch 109 \t Train: 0.42802  Val: 0.55378  Diff: -0.12576 \t lr: 0.00071689\n",
      "Epoch 110 \t Train: 0.42483  Val: 0.51504  Diff: -0.09021 \t lr: 0.00070672\n",
      "Epoch 111 \t Train: 0.43369  Val: 0.47613  Diff: -0.04244 \t lr: 0.00069646\n",
      "Epoch 112 \t Train: 0.41514  Val: 0.60052  Diff: -0.18538 \t lr: 0.00068609\n",
      "Epoch 113 \t Train: 0.40814  Val: 0.49059  Diff: -0.08245 \t lr: 0.00067563\n",
      "Epoch 114 \t Train: 0.40370  Val: 0.53022  Diff: -0.12653 \t lr: 0.00066508\n",
      "Epoch 115 \t Train: 0.40704  Val: 0.50477  Diff: -0.09774 \t lr: 0.00065445\n",
      "Epoch 116 \t Train: 0.40265  Val: 0.51666  Diff: -0.11402 \t lr: 0.00064374\n",
      "Epoch 117 \t Train: 0.41051  Val: 0.59222  Diff: -0.18171 \t lr: 0.00063296\n",
      "Epoch 118 \t Train: 0.40557  Val: 0.59559  Diff: -0.19002 \t lr: 0.00062211\n",
      "Epoch 119 \t Train: 0.40323  Val: 0.53751  Diff: -0.13428 \t lr: 0.00061120\n",
      "Epoch 120 \t Train: 0.40122  Val: 0.49897  Diff: -0.09775 \t lr: 0.00060024\n",
      "Epoch 121 \t Train: 0.39845  Val: 0.54531  Diff: -0.14686 \t lr: 0.00058922\n",
      "Epoch 122 \t Train: 0.38531  Val: 0.49809  Diff: -0.11279 \t lr: 0.00057816\n",
      "Epoch 123 \t Train: 0.39698  Val: 0.52457  Diff: -0.12759 \t lr: 0.00056706\n",
      "Epoch 124 \t Train: 0.38770  Val: 0.50301  Diff: -0.11530 \t lr: 0.00055593\n",
      "Epoch 125 \t Train: 0.38871  Val: 0.52919  Diff: -0.14048 \t lr: 0.00054476\n",
      "Epoch 126 \t Train: 0.38913  Val: 0.53573  Diff: -0.14660 \t lr: 0.00053358\n",
      "Epoch 127 \t Train: 0.38833  Val: 0.53108  Diff: -0.14275 \t lr: 0.00052238\n",
      "Epoch 128 \t Train: 0.38750  Val: 0.50624  Diff: -0.11874 \t lr: 0.00051116\n",
      "Epoch 129 \t Train: 0.38339  Val: 0.51848  Diff: -0.13509 \t lr: 0.00049995\n",
      "Epoch 130 \t Train: 0.37713  Val: 0.49300  Diff: -0.11587 \t lr: 0.00048873\n",
      "Epoch 131 \t Train: 0.38604  Val: 0.51411  Diff: -0.12807 \t lr: 0.00047751\n",
      "Epoch 132 \t Train: 0.36877  Val: 0.52233  Diff: -0.15356 \t lr: 0.00046631\n",
      "Epoch 133 \t Train: 0.38176  Val: 0.53301  Diff: -0.15124 \t lr: 0.00045513\n",
      "Epoch 134 \t Train: 0.38684  Val: 0.54762  Diff: -0.16078 \t lr: 0.00044397\n",
      "Epoch 135 \t Train: 0.38742  Val: 0.58247  Diff: -0.19505 \t lr: 0.00043283\n",
      "Epoch 136 \t Train: 0.37591  Val: 0.50640  Diff: -0.13049 \t lr: 0.00042173\n",
      "Epoch 137 \t Train: 0.37034  Val: 0.52555  Diff: -0.15521 \t lr: 0.00041067\n",
      "Epoch 138 \t Train: 0.37544  Val: 0.55624  Diff: -0.18080 \t lr: 0.00039966\n",
      "Epoch 139 \t Train: 0.37279  Val: 0.50869  Diff: -0.13590 \t lr: 0.00038869\n",
      "Epoch 140 \t Train: 0.37109  Val: 0.50375  Diff: -0.13266 \t lr: 0.00037778\n",
      "Epoch 141 \t Train: 0.36842  Val: 0.49680  Diff: -0.12837 \t lr: 0.00036693\n",
      "Epoch 142 \t Train: 0.36799  Val: 0.51334  Diff: -0.14535 \t lr: 0.00035615\n",
      "Epoch 143 \t Train: 0.36024  Val: 0.51937  Diff: -0.15914 \t lr: 0.00034545\n",
      "Epoch 144 \t Train: 0.36687  Val: 0.51120  Diff: -0.14432 \t lr: 0.00033482\n",
      "Epoch 145 \t Train: 0.34962  Val: 0.53492  Diff: -0.18530 \t lr: 0.00032427\n",
      "Epoch 146 \t Train: 0.35924  Val: 0.50989  Diff: -0.15065 \t lr: 0.00031381\n",
      "Epoch 147 \t Train: 0.36156  Val: 0.53494  Diff: -0.17337 \t lr: 0.00030345\n",
      "Epoch 148 \t Train: 0.34924  Val: 0.48622  Diff: -0.13697 \t lr: 0.00029318\n",
      "Epoch 149 \t Train: 0.34976  Val: 0.52318  Diff: -0.17342 \t lr: 0.00028302\n",
      "Epoch 150 \t Train: 0.33930  Val: 0.55288  Diff: -0.21357 \t lr: 0.00027297\n",
      "Epoch 151 \t Train: 0.35778  Val: 0.52023  Diff: -0.16245 \t lr: 0.00026303\n",
      "Epoch 152 \t Train: 0.34464  Val: 0.55324  Diff: -0.20860 \t lr: 0.00025321\n",
      "Epoch 153 \t Train: 0.33897  Val: 0.55072  Diff: -0.21176 \t lr: 0.00024352\n",
      "Epoch 154 \t Train: 0.34884  Val: 0.52687  Diff: -0.17803 \t lr: 0.00023395\n",
      "Epoch 155 \t Train: 0.34317  Val: 0.52188  Diff: -0.17871 \t lr: 0.00022452\n",
      "Epoch 156 \t Train: 0.33180  Val: 0.53394  Diff: -0.20214 \t lr: 0.00021523\n",
      "Epoch 157 \t Train: 0.34300  Val: 0.51118  Diff: -0.16817 \t lr: 0.00020608\n",
      "Epoch 158 \t Train: 0.34092  Val: 0.54629  Diff: -0.20537 \t lr: 0.00019708\n",
      "Epoch 159 \t Train: 0.33845  Val: 0.57164  Diff: -0.23319 \t lr: 0.00018823\n",
      "Epoch 160 \t Train: 0.33246  Val: 0.53149  Diff: -0.19904 \t lr: 0.00017954\n",
      "Epoch 161 \t Train: 0.33344  Val: 0.54559  Diff: -0.21215 \t lr: 0.00017101\n",
      "Epoch 162 \t Train: 0.33969  Val: 0.55093  Diff: -0.21124 \t lr: 0.00016264\n",
      "Epoch 163 \t Train: 0.33657  Val: 0.54336  Diff: -0.20680 \t lr: 0.00015445\n",
      "Epoch 164 \t Train: 0.32310  Val: 0.53461  Diff: -0.21152 \t lr: 0.00014643\n",
      "Epoch 165 \t Train: 0.32868  Val: 0.54189  Diff: -0.21321 \t lr: 0.00013859\n",
      "Epoch 166 \t Train: 0.33051  Val: 0.51923  Diff: -0.18873 \t lr: 0.00013092\n",
      "Epoch 167 \t Train: 0.32805  Val: 0.53095  Diff: -0.20290 \t lr: 0.00012345\n",
      "Epoch 168 \t Train: 0.33279  Val: 0.53338  Diff: -0.20059 \t lr: 0.00011617\n",
      "Epoch 169 \t Train: 0.32583  Val: 0.55053  Diff: -0.22471 \t lr: 0.00010907\n",
      "Epoch 170 \t Train: 0.33885  Val: 0.54093  Diff: -0.20208 \t lr: 0.00010218\n",
      "Epoch 171 \t Train: 0.32639  Val: 0.54721  Diff: -0.22082 \t lr: 0.00009548\n",
      "Epoch 172 \t Train: 0.33612  Val: 0.53499  Diff: -0.19887 \t lr: 0.00008899\n",
      "Epoch 173 \t Train: 0.32859  Val: 0.51503  Diff: -0.18644 \t lr: 0.00008271\n",
      "Epoch 174 \t Train: 0.31853  Val: 0.53305  Diff: -0.21452 \t lr: 0.00007664\n",
      "Epoch 175 \t Train: 0.31703  Val: 0.52849  Diff: -0.21145 \t lr: 0.00007077\n",
      "Epoch 176 \t Train: 0.32628  Val: 0.55460  Diff: -0.22832 \t lr: 0.00006513\n",
      "Epoch 177 \t Train: 0.32009  Val: 0.53530  Diff: -0.21521 \t lr: 0.00005970\n",
      "Epoch 178 \t Train: 0.31482  Val: 0.53538  Diff: -0.22056 \t lr: 0.00005450\n",
      "Epoch 179 \t Train: 0.31576  Val: 0.54068  Diff: -0.22492 \t lr: 0.00004952\n",
      "Epoch 180 \t Train: 0.32716  Val: 0.55814  Diff: -0.23098 \t lr: 0.00004477\n",
      "Epoch 181 \t Train: 0.30833  Val: 0.51858  Diff: -0.21026 \t lr: 0.00004025\n",
      "Epoch 182 \t Train: 0.32547  Val: 0.51345  Diff: -0.18797 \t lr: 0.00003595\n",
      "Epoch 183 \t Train: 0.32980  Val: 0.53914  Diff: -0.20934 \t lr: 0.00003190\n",
      "Epoch 184 \t Train: 0.32193  Val: 0.52501  Diff: -0.20308 \t lr: 0.00002807\n",
      "Epoch 185 \t Train: 0.31336  Val: 0.55772  Diff: -0.24436 \t lr: 0.00002449\n",
      "Epoch 186 \t Train: 0.32233  Val: 0.52104  Diff: -0.19871 \t lr: 0.00002114\n",
      "Epoch 187 \t Train: 0.31153  Val: 0.53820  Diff: -0.22667 \t lr: 0.00001804\n",
      "Epoch 188 \t Train: 0.30897  Val: 0.54023  Diff: -0.23126 \t lr: 0.00001518\n",
      "Epoch 189 \t Train: 0.31605  Val: 0.51938  Diff: -0.20333 \t lr: 0.00001256\n",
      "Epoch 190 \t Train: 0.30814  Val: 0.52246  Diff: -0.21431 \t lr: 0.00001019\n",
      "Epoch 191 \t Train: 0.31598  Val: 0.54073  Diff: -0.22474 \t lr: 0.00000806\n",
      "Epoch 192 \t Train: 0.32431  Val: 0.52466  Diff: -0.20035 \t lr: 0.00000618\n",
      "Epoch 193 \t Train: 0.31831  Val: 0.52265  Diff: -0.20435 \t lr: 0.00000455\n",
      "Epoch 194 \t Train: 0.31835  Val: 0.51206  Diff: -0.19371 \t lr: 0.00000318\n",
      "Epoch 195 \t Train: 0.32438  Val: 0.53292  Diff: -0.20854 \t lr: 0.00000205\n",
      "Epoch 196 \t Train: 0.30484  Val: 0.53404  Diff: -0.22920 \t lr: 0.00000117\n",
      "Epoch 197 \t Train: 0.31830  Val: 0.55060  Diff: -0.23230 \t lr: 0.00000054\n",
      "Epoch 198 \t Train: 0.32195  Val: 0.53258  Diff: -0.21063 \t lr: 0.00000016\n",
      "Epoch 199 \t Train: 0.31337  Val: 0.52862  Diff: -0.21526 \t lr: 0.00000004\n"
     ]
    }
   ],
   "source": [
    "all_train_losses = []\n",
    "all_val_losses = []\n",
    "\n",
    "for i in range(EPOCHS):\n",
    "    train_loss = train(model, train_dl, loss_func, optimizer, scheduler, DEVICE)\n",
    "    val_loss = val(model, val_dl, loss_func, DEVICE)\n",
    "\n",
    "    diff = train_loss-val_loss\n",
    "\n",
    "    print(f'Epoch {i} \\t Train: {train_loss:.5f}  Val: {val_loss:.5f}  Diff: {diff:.5f} \\t lr: {optimizer.param_groups[0][\"lr\"]:.8f}')\n",
    "\n",
    "    torch.save(model.state_dict(), os.path.join(OUTPUT_PATH, f'model_{i + MODEL_NUM_OFFSET}.pt'))\n",
    "\n",
    "    all_train_losses.append(train_loss)\n",
    "    all_val_losses.append(val_loss)\n",
    "\n",
    "    # if diff <= -0.2: break"
   ]
  },
  {
   "cell_type": "code",
   "execution_count": 213,
   "metadata": {
    "execution": {
     "iopub.execute_input": "2025-01-13T03:49:07.075939Z",
     "iopub.status.busy": "2025-01-13T03:49:07.075631Z",
     "iopub.status.idle": "2025-01-13T03:49:07.345190Z",
     "shell.execute_reply": "2025-01-13T03:49:07.344272Z",
     "shell.execute_reply.started": "2025-01-13T03:49:07.075913Z"
    },
    "trusted": true
   },
   "outputs": [
    {
     "data": {
      "image/png": "[encoded data removed]",
      "text/plain": [
       "<Figure size 640x480 with 1 Axes>"
      ]
     },
     "metadata": {},
     "output_type": "display_data"
    }
   ],
   "source": [
    "plt.plot(all_train_losses)\n",
    "plt.plot(all_val_losses)\n",
    "plt.show()"
   ]
  },
  {
   "cell_type": "code",
   "execution_count": 214,
   "metadata": {
    "execution": {
     "iopub.execute_input": "2025-01-13T03:49:07.347291Z",
     "iopub.status.busy": "2025-01-13T03:49:07.346956Z",
     "iopub.status.idle": "2025-01-13T03:49:07.354458Z",
     "shell.execute_reply": "2025-01-13T03:49:07.353702Z",
     "shell.execute_reply.started": "2025-01-13T03:49:07.347256Z"
    },
    "trusted": true
   },
   "outputs": [],
   "source": [
    "pd.DataFrame({\n",
    "    'train': all_train_losses,\n",
    "    'test': all_val_losses,\n",
    "}).to_csv('/kaggle/working/losses1.csv')"
   ]
  },
  {
   "cell_type": "code",
   "execution_count": 217,
   "metadata": {
    "execution": {
     "iopub.execute_input": "2025-01-13T03:51:08.949554Z",
     "iopub.status.busy": "2025-01-13T03:51:08.949263Z",
     "iopub.status.idle": "2025-01-13T03:51:08.954796Z",
     "shell.execute_reply": "2025-01-13T03:51:08.953946Z",
     "shell.execute_reply.started": "2025-01-13T03:51:08.949531Z"
    },
    "trusted": true
   },
   "outputs": [
    {
     "data": {
      "text/plain": [
       "111"
      ]
     },
     "execution_count": 217,
     "metadata": {},
     "output_type": "execute_result"
    }
   ],
   "source": [
    "np.argmin(all_val_losses)"
   ]
  },
  {
   "cell_type": "code",
   "execution_count": 218,
   "metadata": {
    "execution": {
     "iopub.execute_input": "2025-01-13T03:51:11.278366Z",
     "iopub.status.busy": "2025-01-13T03:51:11.278059Z",
     "iopub.status.idle": "2025-01-13T03:51:11.283288Z",
     "shell.execute_reply": "2025-01-13T03:51:11.282561Z",
     "shell.execute_reply.started": "2025-01-13T03:51:11.278341Z"
    },
    "trusted": true
   },
   "outputs": [
    {
     "data": {
      "text/plain": [
       "0.5625948905944824"
      ]
     },
     "execution_count": 218,
     "metadata": {},
     "output_type": "execute_result"
    }
   ],
   "source": [
    "all_val_losses[105]"
   ]
  },
  {
   "cell_type": "code",
   "execution_count": null,
   "metadata": {
    "trusted": true
   },
   "outputs": [],
   "source": []
  }
 ],
 "metadata": {
  "kaggle": {
   "accelerator": "gpu",
   "dataSources": [
    {
     "databundleVersionId": 10327706,
     "sourceId": 89564,
     "sourceType": "competition"
    }
   ],
   "dockerImageVersionId": 30823,
   "isGpuEnabled": true,
   "isInternetEnabled": true,
   "language": "python",
   "sourceType": "notebook"
  },
  "kernelspec": {
   "display_name": "Python 3",
   "language": "python",
   "name": "python3"
  },
  "language_info": {
   "codemirror_mode": {
    "name": "ipython",
    "version": 3
   },
   "file_extension": ".py",
   "mimetype": "text/x-python",
   "name": "python",
   "nbconvert_exporter": "python",
   "pygments_lexer": "ipython3",
   "version": "3.10.12"
  }
 },
 "nbformat": 4,
 "nbformat_minor": 4
}
