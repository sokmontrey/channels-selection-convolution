{
 "cells": [
  {
   "cell_type": "code",
   "execution_count": 1,
   "metadata": {
    "ExecuteTime": {
     "end_time": "2025-01-07T19:09:46.591870Z",
     "start_time": "2025-01-07T19:09:41.898184Z"
    },
    "execution": {
     "iopub.execute_input": "2025-01-13T02:52:35.301130Z",
     "iopub.status.busy": "2025-01-13T02:52:35.300713Z",
     "iopub.status.idle": "2025-01-13T02:52:35.306213Z",
     "shell.execute_reply": "2025-01-13T02:52:35.305486Z",
     "shell.execute_reply.started": "2025-01-13T02:52:35.301100Z"
    },
    "scrolled": true,
    "trusted": true
   },
   "outputs": [],
   "source": [
    "import torch\n",
    "import torch.nn as nn\n",
    "import torch.nn.functional as F\n",
    "import torch.optim as optim\n",
    "import numpy as np\n",
    "from torch.optim.lr_scheduler import (\n",
    "    OneCycleLR,\n",
    "    CosineAnnealingLR,\n",
    "    ReduceLROnPlateau\n",
    ")\n",
    "from pandas import DataFrame\n",
    "import torchvision\n",
    "from torchvision import transforms\n",
    "from torch.utils.data import Dataset\n",
    "from torch.utils.data import DataLoader\n",
    "from torchvision.utils import make_grid\n",
    "import os\n",
    "import pandas as pd\n",
    "from PIL import Image\n",
    "import matplotlib.pyplot as plt\n",
    "from sklearn.model_selection import train_test_split"
   ]
  },
  {
   "cell_type": "code",
   "execution_count": 5,
   "metadata": {
    "execution": {
     "iopub.execute_input": "2025-01-13T02:52:35.335563Z",
     "iopub.status.busy": "2025-01-13T02:52:35.335288Z",
     "iopub.status.idle": "2025-01-13T02:52:35.342966Z",
     "shell.execute_reply": "2025-01-13T02:52:35.342360Z",
     "shell.execute_reply.started": "2025-01-13T02:52:35.335540Z"
    },
    "trusted": true
   },
   "outputs": [
    {
     "data": {
      "text/plain": [
       "<torch._C.Generator at 0x19e130b6330>"
      ]
     },
     "execution_count": 5,
     "metadata": {},
     "output_type": "execute_result"
    }
   ],
   "source": [
    "DATA_PATH = '/kaggle/input/dog-vs-cat-vs-bird/dataset/'\n",
    "IMAGES_PATH = DATA_PATH + 'train/'\n",
    "LABEL_PATH = DATA_PATH + 'train.csv'\n",
    "OUTPUT_PATH = '/kaggle/working/'\n",
    "# DATA_PATH = './dog-vs-cat-vs-bird/dataset/'\n",
    "# IMAGES_PATH = DATA_PATH + 'train/'\n",
    "# LABEL_PATH = DATA_PATH + 'train.csv'\n",
    "# OUTPUT_PATH = './models/'\n",
    "\n",
    "RANDOM_STATE = 42\n",
    "TRAIN_SIZE = 0.8\n",
    "EPOCHS = 200\n",
    "MODEL_NUM_OFFSET = 0\n",
    "BATCH_SIZE = 64\n",
    "WEIGHTED_CONV = False\n",
    "DEVICE = torch.device(\"cuda\" if torch.cuda.is_available() else \"cpu\")\n",
    "\n",
    "torch.manual_seed(RANDOM_STATE)"
   ]
  },
  {
   "cell_type": "markdown",
   "metadata": {},
   "source": [
    "# Dataset"
   ]
  },
  {
   "cell_type": "code",
   "execution_count": 6,
   "metadata": {
    "ExecuteTime": {
     "end_time": "2025-01-07T19:24:03.523193Z",
     "start_time": "2025-01-07T19:24:03.507873Z"
    },
    "execution": {
     "iopub.execute_input": "2025-01-13T02:52:35.358241Z",
     "iopub.status.busy": "2025-01-13T02:52:35.358039Z",
     "iopub.status.idle": "2025-01-13T02:52:35.363199Z",
     "shell.execute_reply": "2025-01-13T02:52:35.362335Z",
     "shell.execute_reply.started": "2025-01-13T02:52:35.358224Z"
    },
    "trusted": true
   },
   "outputs": [],
   "source": [
    "class CustomDataset(Dataset):\n",
    "    def __init__(self, dataframe, img_dir_path, transform):\n",
    "        self.df = dataframe\n",
    "        self.img_dir_path = img_dir_path\n",
    "        self.transform = transform\n",
    "\n",
    "    def __len__(self):\n",
    "        return len(self.df)\n",
    "\n",
    "    def __getitem__(self, idx):\n",
    "        row = self.df.iloc[idx]\n",
    "        img_name = row['filename']        \n",
    "        img_path = os.path.join(self.img_dir_path, img_name)\n",
    "        \n",
    "        img = Image.open(img_path).convert(\"RGB\")\n",
    "        if self.transform:\n",
    "            img = self.transform(img)\n",
    "        label = row['label']\n",
    "        \n",
    "        return img, label"
   ]
  },
  {
   "cell_type": "code",
   "execution_count": 7,
   "metadata": {
    "execution": {
     "iopub.execute_input": "2025-01-13T02:52:35.380070Z",
     "iopub.status.busy": "2025-01-13T02:52:35.379822Z",
     "iopub.status.idle": "2025-01-13T02:52:35.406872Z",
     "shell.execute_reply": "2025-01-13T02:52:35.406068Z",
     "shell.execute_reply.started": "2025-01-13T02:52:35.380051Z"
    },
    "trusted": true
   },
   "outputs": [
    {
     "ename": "FileNotFoundError",
     "evalue": "[Errno 2] No such file or directory: '/kaggle/input/dog-vs-cat-vs-bird/dataset/train.csv'",
     "output_type": "error",
     "traceback": [
      "\u001b[1;31m---------------------------------------------------------------------------\u001b[0m",
      "\u001b[1;31mFileNotFoundError\u001b[0m                         Traceback (most recent call last)",
      "Cell \u001b[1;32mIn[7], line 3\u001b[0m\n\u001b[0;32m      1\u001b[0m class_to_index \u001b[38;5;241m=\u001b[39m {\u001b[38;5;124m'\u001b[39m\u001b[38;5;124mcat\u001b[39m\u001b[38;5;124m'\u001b[39m: \u001b[38;5;241m0\u001b[39m, \u001b[38;5;124m'\u001b[39m\u001b[38;5;124mdog\u001b[39m\u001b[38;5;124m'\u001b[39m: \u001b[38;5;241m1\u001b[39m, \u001b[38;5;124m'\u001b[39m\u001b[38;5;124mbird\u001b[39m\u001b[38;5;124m'\u001b[39m: \u001b[38;5;241m2\u001b[39m, }\n\u001b[1;32m----> 3\u001b[0m df \u001b[38;5;241m=\u001b[39m \u001b[43mpd\u001b[49m\u001b[38;5;241;43m.\u001b[39;49m\u001b[43mread_csv\u001b[49m\u001b[43m(\u001b[49m\u001b[43mLABEL_PATH\u001b[49m\u001b[43m)\u001b[49m\n\u001b[0;32m      4\u001b[0m df[\u001b[38;5;124m'\u001b[39m\u001b[38;5;124mlabel\u001b[39m\u001b[38;5;124m'\u001b[39m] \u001b[38;5;241m=\u001b[39m df[\u001b[38;5;124m'\u001b[39m\u001b[38;5;124mlabel\u001b[39m\u001b[38;5;124m'\u001b[39m]\u001b[38;5;241m.\u001b[39mapply(\u001b[38;5;28;01mlambda\u001b[39;00m x: class_to_index[x])\n\u001b[0;32m      5\u001b[0m train_df, val_df \u001b[38;5;241m=\u001b[39m train_test_split(\n\u001b[0;32m      6\u001b[0m     df,\n\u001b[0;32m      7\u001b[0m     test_size\u001b[38;5;241m=\u001b[39m\u001b[38;5;241m1\u001b[39m \u001b[38;5;241m-\u001b[39m TRAIN_SIZE,\n\u001b[0;32m      8\u001b[0m     random_state\u001b[38;5;241m=\u001b[39mRANDOM_STATE,\n\u001b[0;32m      9\u001b[0m     shuffle\u001b[38;5;241m=\u001b[39m\u001b[38;5;28;01mTrue\u001b[39;00m\n\u001b[0;32m     10\u001b[0m )\n",
      "File \u001b[1;32md:\\anaconda\\envs\\deep-learning\\lib\\site-packages\\pandas\\io\\parsers\\readers.py:1026\u001b[0m, in \u001b[0;36mread_csv\u001b[1;34m(filepath_or_buffer, sep, delimiter, header, names, index_col, usecols, dtype, engine, converters, true_values, false_values, skipinitialspace, skiprows, skipfooter, nrows, na_values, keep_default_na, na_filter, verbose, skip_blank_lines, parse_dates, infer_datetime_format, keep_date_col, date_parser, date_format, dayfirst, cache_dates, iterator, chunksize, compression, thousands, decimal, lineterminator, quotechar, quoting, doublequote, escapechar, comment, encoding, encoding_errors, dialect, on_bad_lines, delim_whitespace, low_memory, memory_map, float_precision, storage_options, dtype_backend)\u001b[0m\n\u001b[0;32m   1013\u001b[0m kwds_defaults \u001b[38;5;241m=\u001b[39m _refine_defaults_read(\n\u001b[0;32m   1014\u001b[0m     dialect,\n\u001b[0;32m   1015\u001b[0m     delimiter,\n\u001b[1;32m   (...)\u001b[0m\n\u001b[0;32m   1022\u001b[0m     dtype_backend\u001b[38;5;241m=\u001b[39mdtype_backend,\n\u001b[0;32m   1023\u001b[0m )\n\u001b[0;32m   1024\u001b[0m kwds\u001b[38;5;241m.\u001b[39mupdate(kwds_defaults)\n\u001b[1;32m-> 1026\u001b[0m \u001b[38;5;28;01mreturn\u001b[39;00m \u001b[43m_read\u001b[49m\u001b[43m(\u001b[49m\u001b[43mfilepath_or_buffer\u001b[49m\u001b[43m,\u001b[49m\u001b[43m \u001b[49m\u001b[43mkwds\u001b[49m\u001b[43m)\u001b[49m\n",
      "File \u001b[1;32md:\\anaconda\\envs\\deep-learning\\lib\\site-packages\\pandas\\io\\parsers\\readers.py:620\u001b[0m, in \u001b[0;36m_read\u001b[1;34m(filepath_or_buffer, kwds)\u001b[0m\n\u001b[0;32m    617\u001b[0m _validate_names(kwds\u001b[38;5;241m.\u001b[39mget(\u001b[38;5;124m\"\u001b[39m\u001b[38;5;124mnames\u001b[39m\u001b[38;5;124m\"\u001b[39m, \u001b[38;5;28;01mNone\u001b[39;00m))\n\u001b[0;32m    619\u001b[0m \u001b[38;5;66;03m# Create the parser.\u001b[39;00m\n\u001b[1;32m--> 620\u001b[0m parser \u001b[38;5;241m=\u001b[39m TextFileReader(filepath_or_buffer, \u001b[38;5;241m*\u001b[39m\u001b[38;5;241m*\u001b[39mkwds)\n\u001b[0;32m    622\u001b[0m \u001b[38;5;28;01mif\u001b[39;00m chunksize \u001b[38;5;129;01mor\u001b[39;00m iterator:\n\u001b[0;32m    623\u001b[0m     \u001b[38;5;28;01mreturn\u001b[39;00m parser\n",
      "File \u001b[1;32md:\\anaconda\\envs\\deep-learning\\lib\\site-packages\\pandas\\io\\parsers\\readers.py:1620\u001b[0m, in \u001b[0;36mTextFileReader.__init__\u001b[1;34m(self, f, engine, **kwds)\u001b[0m\n\u001b[0;32m   1617\u001b[0m     \u001b[38;5;28mself\u001b[39m\u001b[38;5;241m.\u001b[39moptions[\u001b[38;5;124m\"\u001b[39m\u001b[38;5;124mhas_index_names\u001b[39m\u001b[38;5;124m\"\u001b[39m] \u001b[38;5;241m=\u001b[39m kwds[\u001b[38;5;124m\"\u001b[39m\u001b[38;5;124mhas_index_names\u001b[39m\u001b[38;5;124m\"\u001b[39m]\n\u001b[0;32m   1619\u001b[0m \u001b[38;5;28mself\u001b[39m\u001b[38;5;241m.\u001b[39mhandles: IOHandles \u001b[38;5;241m|\u001b[39m \u001b[38;5;28;01mNone\u001b[39;00m \u001b[38;5;241m=\u001b[39m \u001b[38;5;28;01mNone\u001b[39;00m\n\u001b[1;32m-> 1620\u001b[0m \u001b[38;5;28mself\u001b[39m\u001b[38;5;241m.\u001b[39m_engine \u001b[38;5;241m=\u001b[39m \u001b[38;5;28;43mself\u001b[39;49m\u001b[38;5;241;43m.\u001b[39;49m\u001b[43m_make_engine\u001b[49m\u001b[43m(\u001b[49m\u001b[43mf\u001b[49m\u001b[43m,\u001b[49m\u001b[43m \u001b[49m\u001b[38;5;28;43mself\u001b[39;49m\u001b[38;5;241;43m.\u001b[39;49m\u001b[43mengine\u001b[49m\u001b[43m)\u001b[49m\n",
      "File \u001b[1;32md:\\anaconda\\envs\\deep-learning\\lib\\site-packages\\pandas\\io\\parsers\\readers.py:1880\u001b[0m, in \u001b[0;36mTextFileReader._make_engine\u001b[1;34m(self, f, engine)\u001b[0m\n\u001b[0;32m   1878\u001b[0m     \u001b[38;5;28;01mif\u001b[39;00m \u001b[38;5;124m\"\u001b[39m\u001b[38;5;124mb\u001b[39m\u001b[38;5;124m\"\u001b[39m \u001b[38;5;129;01mnot\u001b[39;00m \u001b[38;5;129;01min\u001b[39;00m mode:\n\u001b[0;32m   1879\u001b[0m         mode \u001b[38;5;241m+\u001b[39m\u001b[38;5;241m=\u001b[39m \u001b[38;5;124m\"\u001b[39m\u001b[38;5;124mb\u001b[39m\u001b[38;5;124m\"\u001b[39m\n\u001b[1;32m-> 1880\u001b[0m \u001b[38;5;28mself\u001b[39m\u001b[38;5;241m.\u001b[39mhandles \u001b[38;5;241m=\u001b[39m \u001b[43mget_handle\u001b[49m\u001b[43m(\u001b[49m\n\u001b[0;32m   1881\u001b[0m \u001b[43m    \u001b[49m\u001b[43mf\u001b[49m\u001b[43m,\u001b[49m\n\u001b[0;32m   1882\u001b[0m \u001b[43m    \u001b[49m\u001b[43mmode\u001b[49m\u001b[43m,\u001b[49m\n\u001b[0;32m   1883\u001b[0m \u001b[43m    \u001b[49m\u001b[43mencoding\u001b[49m\u001b[38;5;241;43m=\u001b[39;49m\u001b[38;5;28;43mself\u001b[39;49m\u001b[38;5;241;43m.\u001b[39;49m\u001b[43moptions\u001b[49m\u001b[38;5;241;43m.\u001b[39;49m\u001b[43mget\u001b[49m\u001b[43m(\u001b[49m\u001b[38;5;124;43m\"\u001b[39;49m\u001b[38;5;124;43mencoding\u001b[39;49m\u001b[38;5;124;43m\"\u001b[39;49m\u001b[43m,\u001b[49m\u001b[43m \u001b[49m\u001b[38;5;28;43;01mNone\u001b[39;49;00m\u001b[43m)\u001b[49m\u001b[43m,\u001b[49m\n\u001b[0;32m   1884\u001b[0m \u001b[43m    \u001b[49m\u001b[43mcompression\u001b[49m\u001b[38;5;241;43m=\u001b[39;49m\u001b[38;5;28;43mself\u001b[39;49m\u001b[38;5;241;43m.\u001b[39;49m\u001b[43moptions\u001b[49m\u001b[38;5;241;43m.\u001b[39;49m\u001b[43mget\u001b[49m\u001b[43m(\u001b[49m\u001b[38;5;124;43m\"\u001b[39;49m\u001b[38;5;124;43mcompression\u001b[39;49m\u001b[38;5;124;43m\"\u001b[39;49m\u001b[43m,\u001b[49m\u001b[43m \u001b[49m\u001b[38;5;28;43;01mNone\u001b[39;49;00m\u001b[43m)\u001b[49m\u001b[43m,\u001b[49m\n\u001b[0;32m   1885\u001b[0m \u001b[43m    \u001b[49m\u001b[43mmemory_map\u001b[49m\u001b[38;5;241;43m=\u001b[39;49m\u001b[38;5;28;43mself\u001b[39;49m\u001b[38;5;241;43m.\u001b[39;49m\u001b[43moptions\u001b[49m\u001b[38;5;241;43m.\u001b[39;49m\u001b[43mget\u001b[49m\u001b[43m(\u001b[49m\u001b[38;5;124;43m\"\u001b[39;49m\u001b[38;5;124;43mmemory_map\u001b[39;49m\u001b[38;5;124;43m\"\u001b[39;49m\u001b[43m,\u001b[49m\u001b[43m \u001b[49m\u001b[38;5;28;43;01mFalse\u001b[39;49;00m\u001b[43m)\u001b[49m\u001b[43m,\u001b[49m\n\u001b[0;32m   1886\u001b[0m \u001b[43m    \u001b[49m\u001b[43mis_text\u001b[49m\u001b[38;5;241;43m=\u001b[39;49m\u001b[43mis_text\u001b[49m\u001b[43m,\u001b[49m\n\u001b[0;32m   1887\u001b[0m \u001b[43m    \u001b[49m\u001b[43merrors\u001b[49m\u001b[38;5;241;43m=\u001b[39;49m\u001b[38;5;28;43mself\u001b[39;49m\u001b[38;5;241;43m.\u001b[39;49m\u001b[43moptions\u001b[49m\u001b[38;5;241;43m.\u001b[39;49m\u001b[43mget\u001b[49m\u001b[43m(\u001b[49m\u001b[38;5;124;43m\"\u001b[39;49m\u001b[38;5;124;43mencoding_errors\u001b[39;49m\u001b[38;5;124;43m\"\u001b[39;49m\u001b[43m,\u001b[49m\u001b[43m \u001b[49m\u001b[38;5;124;43m\"\u001b[39;49m\u001b[38;5;124;43mstrict\u001b[39;49m\u001b[38;5;124;43m\"\u001b[39;49m\u001b[43m)\u001b[49m\u001b[43m,\u001b[49m\n\u001b[0;32m   1888\u001b[0m \u001b[43m    \u001b[49m\u001b[43mstorage_options\u001b[49m\u001b[38;5;241;43m=\u001b[39;49m\u001b[38;5;28;43mself\u001b[39;49m\u001b[38;5;241;43m.\u001b[39;49m\u001b[43moptions\u001b[49m\u001b[38;5;241;43m.\u001b[39;49m\u001b[43mget\u001b[49m\u001b[43m(\u001b[49m\u001b[38;5;124;43m\"\u001b[39;49m\u001b[38;5;124;43mstorage_options\u001b[39;49m\u001b[38;5;124;43m\"\u001b[39;49m\u001b[43m,\u001b[49m\u001b[43m \u001b[49m\u001b[38;5;28;43;01mNone\u001b[39;49;00m\u001b[43m)\u001b[49m\u001b[43m,\u001b[49m\n\u001b[0;32m   1889\u001b[0m \u001b[43m\u001b[49m\u001b[43m)\u001b[49m\n\u001b[0;32m   1890\u001b[0m \u001b[38;5;28;01massert\u001b[39;00m \u001b[38;5;28mself\u001b[39m\u001b[38;5;241m.\u001b[39mhandles \u001b[38;5;129;01mis\u001b[39;00m \u001b[38;5;129;01mnot\u001b[39;00m \u001b[38;5;28;01mNone\u001b[39;00m\n\u001b[0;32m   1891\u001b[0m f \u001b[38;5;241m=\u001b[39m \u001b[38;5;28mself\u001b[39m\u001b[38;5;241m.\u001b[39mhandles\u001b[38;5;241m.\u001b[39mhandle\n",
      "File \u001b[1;32md:\\anaconda\\envs\\deep-learning\\lib\\site-packages\\pandas\\io\\common.py:873\u001b[0m, in \u001b[0;36mget_handle\u001b[1;34m(path_or_buf, mode, encoding, compression, memory_map, is_text, errors, storage_options)\u001b[0m\n\u001b[0;32m    868\u001b[0m \u001b[38;5;28;01melif\u001b[39;00m \u001b[38;5;28misinstance\u001b[39m(handle, \u001b[38;5;28mstr\u001b[39m):\n\u001b[0;32m    869\u001b[0m     \u001b[38;5;66;03m# Check whether the filename is to be opened in binary mode.\u001b[39;00m\n\u001b[0;32m    870\u001b[0m     \u001b[38;5;66;03m# Binary mode does not support 'encoding' and 'newline'.\u001b[39;00m\n\u001b[0;32m    871\u001b[0m     \u001b[38;5;28;01mif\u001b[39;00m ioargs\u001b[38;5;241m.\u001b[39mencoding \u001b[38;5;129;01mand\u001b[39;00m \u001b[38;5;124m\"\u001b[39m\u001b[38;5;124mb\u001b[39m\u001b[38;5;124m\"\u001b[39m \u001b[38;5;129;01mnot\u001b[39;00m \u001b[38;5;129;01min\u001b[39;00m ioargs\u001b[38;5;241m.\u001b[39mmode:\n\u001b[0;32m    872\u001b[0m         \u001b[38;5;66;03m# Encoding\u001b[39;00m\n\u001b[1;32m--> 873\u001b[0m         handle \u001b[38;5;241m=\u001b[39m \u001b[38;5;28;43mopen\u001b[39;49m\u001b[43m(\u001b[49m\n\u001b[0;32m    874\u001b[0m \u001b[43m            \u001b[49m\u001b[43mhandle\u001b[49m\u001b[43m,\u001b[49m\n\u001b[0;32m    875\u001b[0m \u001b[43m            \u001b[49m\u001b[43mioargs\u001b[49m\u001b[38;5;241;43m.\u001b[39;49m\u001b[43mmode\u001b[49m\u001b[43m,\u001b[49m\n\u001b[0;32m    876\u001b[0m \u001b[43m            \u001b[49m\u001b[43mencoding\u001b[49m\u001b[38;5;241;43m=\u001b[39;49m\u001b[43mioargs\u001b[49m\u001b[38;5;241;43m.\u001b[39;49m\u001b[43mencoding\u001b[49m\u001b[43m,\u001b[49m\n\u001b[0;32m    877\u001b[0m \u001b[43m            \u001b[49m\u001b[43merrors\u001b[49m\u001b[38;5;241;43m=\u001b[39;49m\u001b[43merrors\u001b[49m\u001b[43m,\u001b[49m\n\u001b[0;32m    878\u001b[0m \u001b[43m            \u001b[49m\u001b[43mnewline\u001b[49m\u001b[38;5;241;43m=\u001b[39;49m\u001b[38;5;124;43m\"\u001b[39;49m\u001b[38;5;124;43m\"\u001b[39;49m\u001b[43m,\u001b[49m\n\u001b[0;32m    879\u001b[0m \u001b[43m        \u001b[49m\u001b[43m)\u001b[49m\n\u001b[0;32m    880\u001b[0m     \u001b[38;5;28;01melse\u001b[39;00m:\n\u001b[0;32m    881\u001b[0m         \u001b[38;5;66;03m# Binary mode\u001b[39;00m\n\u001b[0;32m    882\u001b[0m         handle \u001b[38;5;241m=\u001b[39m \u001b[38;5;28mopen\u001b[39m(handle, ioargs\u001b[38;5;241m.\u001b[39mmode)\n",
      "\u001b[1;31mFileNotFoundError\u001b[0m: [Errno 2] No such file or directory: '/kaggle/input/dog-vs-cat-vs-bird/dataset/train.csv'"
     ]
    }
   ],
   "source": [
    "class_to_index = {'cat': 0, 'dog': 1, 'bird': 2, }\n",
    "\n",
    "df = pd.read_csv(LABEL_PATH)\n",
    "df['label'] = df['label'].apply(lambda x: class_to_index[x])\n",
    "train_df, val_df = train_test_split(\n",
    "    df,\n",
    "    test_size=1 - TRAIN_SIZE,\n",
    "    random_state=RANDOM_STATE,\n",
    "    shuffle=True\n",
    ")\n",
    "\n",
    "preprocess = transforms.Compose([\n",
    "    transforms.ToTensor(),\n",
    "    # transforms.RandomResizedCrop(32),         \n",
    "    # transforms.RandomHorizontalFlip(p=0.5), \n",
    "    # transforms.RandomRotation(degrees=15),\n",
    "    # transforms.ColorJitter(\n",
    "    #     brightness=0.2,\n",
    "    #     contrast=0.2,\n",
    "    #     saturation=0.2,\n",
    "    #     hue=0.1\n",
    "    # ),\n",
    "    # transforms.Normalize(mean=[0.485, 0.456, 0.406], std=[0.229, 0.224, 0.225]),\n",
    "])\n",
    "\n",
    "# apply this on gpu instead\n",
    "preprocess2 = transforms.Compose([\n",
    "    # transforms.RandomResizedCrop(32, (0.08, 1.0)),         \n",
    "    # transforms.RandomHorizontalFlip(p=0.5), \n",
    "    # transforms.RandomRotation(degrees=10),\n",
    "    transforms.ColorJitter(\n",
    "        brightness=0.18,\n",
    "        contrast=0.18,\n",
    "        saturation=0.18,\n",
    "        hue=0.1\n",
    "    ),\n",
    "    transforms.RandomHorizontalFlip(),\n",
    "    transforms.RandomRotation(degrees=15),\n",
    "    transforms.RandomAffine(degrees=15, translate=(0.1, 0.1), scale=(0.9, 1.1), shear=6),\n",
    "    transforms.Normalize(mean=[0.485, 0.456, 0.406], std=[0.229, 0.224, 0.225]),\n",
    "])\n",
    "\n",
    "val_preprocess = transforms.Compose([\n",
    "    transforms.ToTensor(),\n",
    "    # transforms.Normalize(mean=[0.485, 0.456, 0.406], std=[0.229, 0.224, 0.225]),\n",
    "])\n",
    "\n",
    "val_preprocess2 = transforms.Compose([\n",
    "    # transforms.ToTensor(),\n",
    "    transforms.Normalize(mean=[0.485, 0.456, 0.406], std=[0.229, 0.224, 0.225]),\n",
    "])\n",
    "\n",
    "train_ds = CustomDataset(train_df, IMAGES_PATH, preprocess)\n",
    "val_ds = CustomDataset(val_df, IMAGES_PATH, val_preprocess)\n",
    "\n",
    "train_dl = DataLoader(\n",
    "    train_ds, \n",
    "    batch_size=BATCH_SIZE, \n",
    "    shuffle=True,\n",
    "    pin_memory=True,\n",
    "    num_workers=4,\n",
    "    prefetch_factor=2,\n",
    ")\n",
    "\n",
    "val_dl = DataLoader(\n",
    "    val_ds, \n",
    "    batch_size=BATCH_SIZE, \n",
    "    shuffle=False,\n",
    "    pin_memory=True,\n",
    "    num_workers=4,\n",
    "    prefetch_factor=2,\n",
    ")"
   ]
  },
  {
   "cell_type": "markdown",
   "metadata": {},
   "source": [
    "# Model"
   ]
  },
  {
   "cell_type": "markdown",
   "metadata": {},
   "source": [
    "Conv2d with bias=False and applied after BatchNorm2d"
   ]
  },
  {
   "cell_type": "code",
   "execution_count": 8,
   "metadata": {
    "execution": {
     "iopub.execute_input": "2025-01-13T02:52:35.435797Z",
     "iopub.status.busy": "2025-01-13T02:52:35.435566Z",
     "iopub.status.idle": "2025-01-13T02:52:35.440384Z",
     "shell.execute_reply": "2025-01-13T02:52:35.439614Z",
     "shell.execute_reply.started": "2025-01-13T02:52:35.435775Z"
    },
    "trusted": true
   },
   "outputs": [],
   "source": [
    "class BatchedConv2d(nn.Module):\n",
    "    def __init__(\n",
    "            self, \n",
    "            in_channels, \n",
    "            out_channels, \n",
    "            stride=1, \n",
    "            kernel_size=3, \n",
    "            padding=0,\n",
    "            groups=1\n",
    "        ): \n",
    "        super(BatchedConv2d, self).__init__()\n",
    "        self.conv = nn.Conv2d(\n",
    "            in_channels=in_channels,\n",
    "            out_channels=out_channels,\n",
    "            stride=stride,\n",
    "            kernel_size=kernel_size,\n",
    "            padding=padding,\n",
    "            groups=groups,\n",
    "            bias=False,\n",
    "        )\n",
    "        self.batch_norm = nn.BatchNorm2d(out_channels)\n",
    "\n",
    "    def forward(self, x):\n",
    "        out = self.conv(x)\n",
    "        out = self.batch_norm(out)\n",
    "        return out"
   ]
  },
  {
   "cell_type": "markdown",
   "metadata": {},
   "source": [
    "Apply different weighted sum on in_channels for each kernels (num kernels = out_channels).\n",
    "\n",
    "Avoiding typical pytorch conv2d which use sub kernels (num kernels = in_channels * out_channels)"
   ]
  },
  {
   "cell_type": "code",
   "execution_count": 9,
   "metadata": {
    "execution": {
     "iopub.execute_input": "2025-01-13T02:52:35.489152Z",
     "iopub.status.busy": "2025-01-13T02:52:35.488956Z",
     "iopub.status.idle": "2025-01-13T02:52:35.493686Z",
     "shell.execute_reply": "2025-01-13T02:52:35.492970Z",
     "shell.execute_reply.started": "2025-01-13T02:52:35.489135Z"
    },
    "trusted": true
   },
   "outputs": [],
   "source": [
    "class WeightedSumConv2d(nn.Module):\n",
    "    def __init__(\n",
    "            self, \n",
    "            in_channels, \n",
    "            out_channels, \n",
    "            stride=1, \n",
    "            kernel_size=3, \n",
    "            padding=0\n",
    "        ):\n",
    "        super(WeightedSumConv2d, self).__init__()\n",
    "        self.weighted_sum = nn.Conv2d(\n",
    "            in_channels, \n",
    "            out_channels, \n",
    "            kernel_size=1, \n",
    "            bias=False\n",
    "        )\n",
    "        self.batch_conv = BatchedConv2d(\n",
    "            in_channels=out_channels,\n",
    "            out_channels=out_channels,\n",
    "            stride=stride,\n",
    "            kernel_size=kernel_size,\n",
    "            padding=padding,\n",
    "            groups=out_channels\n",
    "        )\n",
    "\n",
    "    def forward(self, x):\n",
    "        x = self.weighted_sum(x)\n",
    "        x = self.batch_conv(x)\n",
    "        return x"
   ]
  },
  {
   "cell_type": "markdown",
   "metadata": {},
   "source": [
    "CNN model with residual"
   ]
  },
  {
   "cell_type": "code",
   "execution_count": 10,
   "metadata": {
    "execution": {
     "iopub.execute_input": "2025-01-13T02:52:35.550943Z",
     "iopub.status.busy": "2025-01-13T02:52:35.550590Z",
     "iopub.status.idle": "2025-01-13T02:52:35.559192Z",
     "shell.execute_reply": "2025-01-13T02:52:35.558389Z",
     "shell.execute_reply.started": "2025-01-13T02:52:35.550915Z"
    },
    "trusted": true
   },
   "outputs": [],
   "source": [
    "Conv = BatchedConv2d\n",
    "if WEIGHTED_CONV:\n",
    "    Conv = WeightedSumConv2d\n",
    "\n",
    "class BasicBlock(nn.Module):\n",
    "    def __init__(self, in_channels, out_channels, stride=1):\n",
    "        super(BasicBlock, self).__init__()\n",
    "        self.conv1 = Conv(in_channels, out_channels, kernel_size=3, stride=stride, padding=1)\n",
    "        self.conv2 = Conv(out_channels, out_channels, kernel_size=3, stride=1, padding=1)\n",
    "\n",
    "        self.downsample = nn.Sequential()\n",
    "        if stride != 1 or in_channels != out_channels:\n",
    "            self.downsample = Conv(in_channels, out_channels, kernel_size=1, stride=stride)\n",
    "\n",
    "    def forward(self, x):\n",
    "        identity = self.downsample(x)\n",
    "        out = F.relu(self.conv1(x))\n",
    "        out = self.conv2(out)\n",
    "        out += identity\n",
    "        return F.relu(out)\n",
    "        \n",
    "class Model(nn.Module):\n",
    "    def __init__(self, num_classes=3):\n",
    "        super(Model, self).__init__()\n",
    "        self.conv1 = nn.Conv2d(3, 16, kernel_size=3, stride=1, padding=1)\n",
    "        self.layer1 = nn.Sequential(\n",
    "            BasicBlock(16, 16, stride=1),\n",
    "            BasicBlock(16, 16, stride=1),\n",
    "            BasicBlock(16, 32, stride=2),\n",
    "            BasicBlock(32, 32, stride=1),\n",
    "            BasicBlock(32, 64, stride=2),\n",
    "            BasicBlock(64, 64, stride=1),\n",
    "        )\n",
    "        self.dropout = nn.Dropout(0.2)\n",
    "        self.fc = nn.Linear(64, num_classes)\n",
    "\n",
    "    def forward(self, x):\n",
    "        x = F.relu(self.conv1(x))\n",
    "        x = self.layer1(x)\n",
    "        x = F.adaptive_avg_pool2d(x, (1, 1))\n",
    "        x = torch.flatten(x, 1)\n",
    "        x = self.dropout(x)\n",
    "        x = self.fc(x)\n",
    "        return x"
   ]
  },
  {
   "cell_type": "code",
   "execution_count": 11,
   "metadata": {},
   "outputs": [
    {
     "data": {
      "text/plain": [
       "Model(\n",
       "  (conv1): Conv2d(3, 16, kernel_size=(3, 3), stride=(1, 1), padding=(1, 1))\n",
       "  (layer1): Sequential(\n",
       "    (0): BasicBlock(\n",
       "      (conv1): BatchedConv2d(\n",
       "        (conv): Conv2d(16, 16, kernel_size=(3, 3), stride=(1, 1), padding=(1, 1), bias=False)\n",
       "        (batch_norm): BatchNorm2d(16, eps=1e-05, momentum=0.1, affine=True, track_running_stats=True)\n",
       "      )\n",
       "      (conv2): BatchedConv2d(\n",
       "        (conv): Conv2d(16, 16, kernel_size=(3, 3), stride=(1, 1), padding=(1, 1), bias=False)\n",
       "        (batch_norm): BatchNorm2d(16, eps=1e-05, momentum=0.1, affine=True, track_running_stats=True)\n",
       "      )\n",
       "      (downsample): Sequential()\n",
       "    )\n",
       "    (1): BasicBlock(\n",
       "      (conv1): BatchedConv2d(\n",
       "        (conv): Conv2d(16, 16, kernel_size=(3, 3), stride=(1, 1), padding=(1, 1), bias=False)\n",
       "        (batch_norm): BatchNorm2d(16, eps=1e-05, momentum=0.1, affine=True, track_running_stats=True)\n",
       "      )\n",
       "      (conv2): BatchedConv2d(\n",
       "        (conv): Conv2d(16, 16, kernel_size=(3, 3), stride=(1, 1), padding=(1, 1), bias=False)\n",
       "        (batch_norm): BatchNorm2d(16, eps=1e-05, momentum=0.1, affine=True, track_running_stats=True)\n",
       "      )\n",
       "      (downsample): Sequential()\n",
       "    )\n",
       "    (2): BasicBlock(\n",
       "      (conv1): BatchedConv2d(\n",
       "        (conv): Conv2d(16, 32, kernel_size=(3, 3), stride=(2, 2), padding=(1, 1), bias=False)\n",
       "        (batch_norm): BatchNorm2d(32, eps=1e-05, momentum=0.1, affine=True, track_running_stats=True)\n",
       "      )\n",
       "      (conv2): BatchedConv2d(\n",
       "        (conv): Conv2d(32, 32, kernel_size=(3, 3), stride=(1, 1), padding=(1, 1), bias=False)\n",
       "        (batch_norm): BatchNorm2d(32, eps=1e-05, momentum=0.1, affine=True, track_running_stats=True)\n",
       "      )\n",
       "      (downsample): BatchedConv2d(\n",
       "        (conv): Conv2d(16, 32, kernel_size=(1, 1), stride=(2, 2), bias=False)\n",
       "        (batch_norm): BatchNorm2d(32, eps=1e-05, momentum=0.1, affine=True, track_running_stats=True)\n",
       "      )\n",
       "    )\n",
       "    (3): BasicBlock(\n",
       "      (conv1): BatchedConv2d(\n",
       "        (conv): Conv2d(32, 32, kernel_size=(3, 3), stride=(1, 1), padding=(1, 1), bias=False)\n",
       "        (batch_norm): BatchNorm2d(32, eps=1e-05, momentum=0.1, affine=True, track_running_stats=True)\n",
       "      )\n",
       "      (conv2): BatchedConv2d(\n",
       "        (conv): Conv2d(32, 32, kernel_size=(3, 3), stride=(1, 1), padding=(1, 1), bias=False)\n",
       "        (batch_norm): BatchNorm2d(32, eps=1e-05, momentum=0.1, affine=True, track_running_stats=True)\n",
       "      )\n",
       "      (downsample): Sequential()\n",
       "    )\n",
       "    (4): BasicBlock(\n",
       "      (conv1): BatchedConv2d(\n",
       "        (conv): Conv2d(32, 64, kernel_size=(3, 3), stride=(2, 2), padding=(1, 1), bias=False)\n",
       "        (batch_norm): BatchNorm2d(64, eps=1e-05, momentum=0.1, affine=True, track_running_stats=True)\n",
       "      )\n",
       "      (conv2): BatchedConv2d(\n",
       "        (conv): Conv2d(64, 64, kernel_size=(3, 3), stride=(1, 1), padding=(1, 1), bias=False)\n",
       "        (batch_norm): BatchNorm2d(64, eps=1e-05, momentum=0.1, affine=True, track_running_stats=True)\n",
       "      )\n",
       "      (downsample): BatchedConv2d(\n",
       "        (conv): Conv2d(32, 64, kernel_size=(1, 1), stride=(2, 2), bias=False)\n",
       "        (batch_norm): BatchNorm2d(64, eps=1e-05, momentum=0.1, affine=True, track_running_stats=True)\n",
       "      )\n",
       "    )\n",
       "    (5): BasicBlock(\n",
       "      (conv1): BatchedConv2d(\n",
       "        (conv): Conv2d(64, 64, kernel_size=(3, 3), stride=(1, 1), padding=(1, 1), bias=False)\n",
       "        (batch_norm): BatchNorm2d(64, eps=1e-05, momentum=0.1, affine=True, track_running_stats=True)\n",
       "      )\n",
       "      (conv2): BatchedConv2d(\n",
       "        (conv): Conv2d(64, 64, kernel_size=(3, 3), stride=(1, 1), padding=(1, 1), bias=False)\n",
       "        (batch_norm): BatchNorm2d(64, eps=1e-05, momentum=0.1, affine=True, track_running_stats=True)\n",
       "      )\n",
       "      (downsample): Sequential()\n",
       "    )\n",
       "  )\n",
       "  (dropout): Dropout(p=0.2, inplace=False)\n",
       "  (fc): Linear(in_features=64, out_features=3, bias=True)\n",
       ")"
      ]
     },
     "execution_count": 11,
     "metadata": {},
     "output_type": "execute_result"
    }
   ],
   "source": [
    "model = Model()\n",
    "model.eval()"
   ]
  },
  {
   "cell_type": "code",
   "execution_count": 191,
   "metadata": {
    "execution": {
     "iopub.execute_input": "2025-01-13T02:52:35.581039Z",
     "iopub.status.busy": "2025-01-13T02:52:35.580759Z",
     "iopub.status.idle": "2025-01-13T02:52:35.584273Z",
     "shell.execute_reply": "2025-01-13T02:52:35.583589Z",
     "shell.execute_reply.started": "2025-01-13T02:52:35.581017Z"
    },
    "trusted": true
   },
   "outputs": [],
   "source": [
    "# img = torch.rand(4, 3, 32, 32)\n",
    "# model = Model()\n",
    "# model(img).shape"
   ]
  },
  {
   "cell_type": "markdown",
   "metadata": {},
   "source": [
    "# Training & Validation"
   ]
  },
  {
   "cell_type": "code",
   "execution_count": 192,
   "metadata": {
    "execution": {
     "iopub.execute_input": "2025-01-13T02:52:35.600769Z",
     "iopub.status.busy": "2025-01-13T02:52:35.600558Z",
     "iopub.status.idle": "2025-01-13T02:52:35.607484Z",
     "shell.execute_reply": "2025-01-13T02:52:35.606671Z",
     "shell.execute_reply.started": "2025-01-13T02:52:35.600751Z"
    },
    "trusted": true
   },
   "outputs": [],
   "source": [
    "def train(model, dataloader, loss_func, optimizer, scheduler=None, device='cpu'):\n",
    "    model.train()\n",
    "    total_loss = 0.0\n",
    "    total_batches = len(dataloader)\n",
    "    for i, (data, target) in enumerate(dataloader):\n",
    "        data = data.to(device, non_blocking=True)\n",
    "        target = target.to(device, non_blocking=True)\n",
    "        # pytorch >= 1.7\n",
    "        optimizer.zero_grad(set_to_none=True)\n",
    "\n",
    "        data = preprocess2(data)\n",
    "\n",
    "        output = model(data)\n",
    "        loss = loss_func(output, target)\n",
    "        loss.backward()\n",
    "        optimizer.step()\n",
    "\n",
    "        # use this for OneCycleLR\n",
    "        # if isinstance(scheduler, OneCycleLR):\n",
    "        scheduler.step()\n",
    "            \n",
    "        total_loss += loss.detach()\n",
    "\n",
    "        if i % 10 == 0:\n",
    "            print(f\"Batch: {i}/{total_batches}\", end='\\r')\n",
    "\n",
    "    # if isinstance(scheduler, CosineAnnealingLR):\n",
    "    # scheduler.step()\n",
    "    torch.cuda.synchronize() \n",
    "    return (total_loss / total_batches).item()\n",
    "\n",
    "@torch.no_grad()\n",
    "def val(model, dataloader, loss_func, device='cpu'):\n",
    "    # print()\n",
    "    model.eval()\n",
    "    total_loss = 0.0\n",
    "    for i, (data, target) in enumerate(dataloader):\n",
    "        data = data.to(device, non_blocking=True)\n",
    "        target = target.to(device, non_blocking=True)\n",
    "\n",
    "        data = val_preprocess2(data)\n",
    "        \n",
    "        pred = model.forward(data)\n",
    "        total_loss += loss_func(pred, target).detach()\n",
    "        \n",
    "    torch.cuda.synchronize() \n",
    "    return (total_loss / len(dataloader)).item()"
   ]
  },
  {
   "cell_type": "markdown",
   "metadata": {},
   "source": [
    "Model initialization"
   ]
  },
  {
   "cell_type": "code",
   "execution_count": 193,
   "metadata": {
    "ExecuteTime": {
     "end_time": "2025-01-07T19:50:45.249874Z",
     "start_time": "2025-01-07T19:50:45.224069Z"
    },
    "execution": {
     "iopub.execute_input": "2025-01-13T02:52:35.621518Z",
     "iopub.status.busy": "2025-01-13T02:52:35.621261Z",
     "iopub.status.idle": "2025-01-13T02:52:35.636684Z",
     "shell.execute_reply": "2025-01-13T02:52:35.635913Z",
     "shell.execute_reply.started": "2025-01-13T02:52:35.621486Z"
    },
    "trusted": true
   },
   "outputs": [],
   "source": [
    "model = Model()\n",
    "if torch.cuda.device_count() > 1:\n",
    "    model = nn.DataParallel(model)\n",
    "model.to(DEVICE)\n",
    "\n",
    "# try:\n",
    "#     model = torch.compile(model, mode=\"reduce-overhead\")\n",
    "# except Exception as e:\n",
    "#     print(f\"Compilation failed: {e}\")\n",
    "#     print(\"Falling back to eager mode\")\n",
    "\n",
    "loss_func = F.cross_entropy\n",
    "optimizer = optim.AdamW(model.parameters(), lr=0.001)\n",
    "scheduler = OneCycleLR(\n",
    "    optimizer,\n",
    "    max_lr=1e-3,\n",
    "    epochs=EPOCHS,\n",
    "    steps_per_epoch=len(train_dl),\n",
    "    pct_start=0.3,\n",
    "    div_factor=25,\n",
    "    final_div_factor=1000,\n",
    ")\n",
    "\n",
    "# Option 2: CosineAnnealingLR (For longer traning run)\n",
    "# scheduler = CosineAnnealingLR(\n",
    "#     optimizer,\n",
    "#     T_max=EPOCHS,\n",
    "#     eta_min=1e-6\n",
    "# )"
   ]
  },
  {
   "cell_type": "markdown",
   "metadata": {},
   "source": [
    "Number of parameters"
   ]
  },
  {
   "cell_type": "code",
   "execution_count": 194,
   "metadata": {
    "execution": {
     "iopub.execute_input": "2025-01-13T02:52:35.650062Z",
     "iopub.status.busy": "2025-01-13T02:52:35.649820Z",
     "iopub.status.idle": "2025-01-13T02:52:35.654903Z",
     "shell.execute_reply": "2025-01-13T02:52:35.654097Z",
     "shell.execute_reply.started": "2025-01-13T02:52:35.650043Z"
    },
    "trusted": true
   },
   "outputs": [
    {
     "data": {
      "text/plain": [
       "174787"
      ]
     },
     "execution_count": 194,
     "metadata": {},
     "output_type": "execute_result"
    }
   ],
   "source": [
    "sum(p.numel() for p in model.parameters() if p.requires_grad)\n",
    "# model_parameters = filter(lambda p: p.requires_grad, model.parameters())\n",
    "# params = sum([np.prod(p.size()) for p in model_parameters])\n",
    "# params"
   ]
  },
  {
   "cell_type": "markdown",
   "metadata": {},
   "source": [
    "Training and Validation Loop"
   ]
  },
  {
   "cell_type": "code",
   "execution_count": 195,
   "metadata": {
    "ExecuteTime": {
     "start_time": "2025-01-07T19:50:46.701191Z"
    },
    "execution": {
     "iopub.execute_input": "2025-01-13T02:52:35.692494Z",
     "iopub.status.busy": "2025-01-13T02:52:35.692294Z",
     "iopub.status.idle": "2025-01-13T03:08:38.124880Z",
     "shell.execute_reply": "2025-01-13T03:08:38.123785Z",
     "shell.execute_reply.started": "2025-01-13T02:52:35.692477Z"
    },
    "jupyter": {
     "is_executing": true
    },
    "trusted": true
   },
   "outputs": [
    {
     "name": "stdout",
     "output_type": "stream",
     "text": [
      "Epoch 0 \t Train: 1.08717  Val: 1.10742  Diff: -0.02025 \t lr: 0.00004066\n",
      "Epoch 1 \t Train: 1.01009  Val: 1.03104  Diff: -0.02095 \t lr: 0.00004263\n",
      "Epoch 2 \t Train: 0.98442  Val: 1.00832  Diff: -0.02391 \t lr: 0.00004591\n",
      "Epoch 3 \t Train: 0.96569  Val: 0.99416  Diff: -0.02847 \t lr: 0.00005049\n",
      "Epoch 4 \t Train: 0.95196  Val: 1.00410  Diff: -0.05214 \t lr: 0.00005636\n",
      "Epoch 5 \t Train: 0.94069  Val: 0.96131  Diff: -0.02062 \t lr: 0.00006350\n",
      "Epoch 6 \t Train: 0.92783  Val: 0.92024  Diff: 0.00759 \t lr: 0.00007189\n",
      "Epoch 7 \t Train: 0.91443  Val: 0.91346  Diff: 0.00098 \t lr: 0.00008151\n",
      "Epoch 8 \t Train: 0.90115  Val: 0.92230  Diff: -0.02116 \t lr: 0.00009233\n",
      "Epoch 9 \t Train: 0.88851  Val: 0.90379  Diff: -0.01528 \t lr: 0.00010432\n",
      "Epoch 10 \t Train: 0.88023  Val: 0.87197  Diff: 0.00826 \t lr: 0.00011745\n",
      "Epoch 11 \t Train: 0.87608  Val: 0.86668  Diff: 0.00940 \t lr: 0.00013169\n",
      "Epoch 12 \t Train: 0.84678  Val: 0.85110  Diff: -0.00432 \t lr: 0.00014699\n",
      "Epoch 13 \t Train: 0.83901  Val: 0.85046  Diff: -0.01146 \t lr: 0.00016332\n",
      "Epoch 14 \t Train: 0.83079  Val: 0.83220  Diff: -0.00141 \t lr: 0.00018062\n",
      "Epoch 15 \t Train: 0.82052  Val: 0.79758  Diff: 0.02294 \t lr: 0.00019885\n",
      "Epoch 16 \t Train: 0.81845  Val: 0.96683  Diff: -0.14838 \t lr: 0.00021796\n",
      "Epoch 17 \t Train: 0.79796  Val: 0.79464  Diff: 0.00332 \t lr: 0.00023790\n",
      "Epoch 18 \t Train: 0.79455  Val: 0.83266  Diff: -0.03811 \t lr: 0.00025862\n",
      "Epoch 19 \t Train: 0.77312  Val: 0.77328  Diff: -0.00016 \t lr: 0.00028005\n",
      "Epoch 20 \t Train: 0.76012  Val: 0.86339  Diff: -0.10327 \t lr: 0.00030214\n",
      "Epoch 21 \t Train: 0.75123  Val: 0.77434  Diff: -0.02310 \t lr: 0.00032482\n",
      "Epoch 22 \t Train: 0.73985  Val: 0.81198  Diff: -0.07213 \t lr: 0.00034804\n",
      "Epoch 23 \t Train: 0.72780  Val: 0.73591  Diff: -0.00811 \t lr: 0.00037174\n",
      "Epoch 24 \t Train: 0.72513  Val: 0.78936  Diff: -0.06423 \t lr: 0.00039583\n",
      "Epoch 25 \t Train: 0.70175  Val: 0.66482  Diff: 0.03693 \t lr: 0.00042027\n",
      "Epoch 26 \t Train: 0.69906  Val: 0.72851  Diff: -0.02945 \t lr: 0.00044499\n",
      "Epoch 27 \t Train: 0.68374  Val: 0.70509  Diff: -0.02135 \t lr: 0.00046990\n",
      "Epoch 28 \t Train: 0.67515  Val: 0.68297  Diff: -0.00782 \t lr: 0.00049496\n",
      "Epoch 29 \t Train: 0.68535  Val: 0.68164  Diff: 0.00371 \t lr: 0.00052008\n",
      "Epoch 30 \t Train: 0.65705  Val: 0.67477  Diff: -0.01772 \t lr: 0.00054521\n",
      "Epoch 31 \t Train: 0.65210  Val: 0.68616  Diff: -0.03406 \t lr: 0.00057026\n",
      "Epoch 32 \t Train: 0.64403  Val: 0.68354  Diff: -0.03951 \t lr: 0.00059518\n",
      "Epoch 33 \t Train: 0.64113  Val: 0.61372  Diff: 0.02741 \t lr: 0.00061989\n",
      "Epoch 34 \t Train: 0.63093  Val: 0.69019  Diff: -0.05925 \t lr: 0.00064433\n",
      "Epoch 35 \t Train: 0.61936  Val: 0.69421  Diff: -0.07485 \t lr: 0.00066842\n",
      "Epoch 36 \t Train: 0.61962  Val: 0.84944  Diff: -0.22982 \t lr: 0.00069211\n",
      "Epoch 37 \t Train: 0.61261  Val: 0.63209  Diff: -0.01948 \t lr: 0.00071533\n",
      "Epoch 38 \t Train: 0.59315  Val: 0.75185  Diff: -0.15869 \t lr: 0.00073801\n",
      "Epoch 39 \t Train: 0.60080  Val: 0.83579  Diff: -0.23499 \t lr: 0.00076010\n",
      "Epoch 40 \t Train: 0.59268  Val: 0.68352  Diff: -0.09084 \t lr: 0.00078152\n",
      "Epoch 41 \t Train: 0.56724  Val: 0.59082  Diff: -0.02357 \t lr: 0.00080223\n",
      "Epoch 42 \t Train: 0.56427  Val: 0.56057  Diff: 0.00371 \t lr: 0.00082217\n",
      "Epoch 43 \t Train: 0.56710  Val: 0.57629  Diff: -0.00918 \t lr: 0.00084127\n",
      "Epoch 44 \t Train: 0.55863  Val: 0.57884  Diff: -0.02020 \t lr: 0.00085950\n",
      "Epoch 45 \t Train: 0.55287  Val: 0.59974  Diff: -0.04687 \t lr: 0.00087680\n",
      "Epoch 46 \t Train: 0.55192  Val: 0.92656  Diff: -0.37464 \t lr: 0.00089311\n",
      "Epoch 47 \t Train: 0.54896  Val: 0.51128  Diff: 0.03768 \t lr: 0.00090841\n",
      "Epoch 48 \t Train: 0.53317  Val: 0.51717  Diff: 0.01600 \t lr: 0.00092264\n",
      "Epoch 49 \t Train: 0.52341  Val: 0.60858  Diff: -0.08517 \t lr: 0.00093576\n",
      "Epoch 50 \t Train: 0.53215  Val: 0.50437  Diff: 0.02778 \t lr: 0.00094775\n",
      "Epoch 51 \t Train: 0.52378  Val: 0.69549  Diff: -0.17171 \t lr: 0.00095856\n",
      "Epoch 52 \t Train: 0.52814  Val: 0.76151  Diff: -0.23337 \t lr: 0.00096817\n",
      "Epoch 53 \t Train: 0.50459  Val: 0.52014  Diff: -0.01555 \t lr: 0.00097655\n",
      "Epoch 54 \t Train: 0.50747  Val: 0.54260  Diff: -0.03513 \t lr: 0.00098368\n",
      "Epoch 55 \t Train: 0.50674  Val: 0.56653  Diff: -0.05979 \t lr: 0.00098954\n",
      "Epoch 56 \t Train: 0.49097  Val: 0.54118  Diff: -0.05021 \t lr: 0.00099412\n",
      "Epoch 57 \t Train: 0.48557  Val: 0.45639  Diff: 0.02918 \t lr: 0.00099739\n",
      "Epoch 58 \t Train: 0.49323  Val: 0.49374  Diff: -0.00050 \t lr: 0.00099935\n",
      "Epoch 59 \t Train: 0.47169  Val: 0.61783  Diff: -0.14614 \t lr: 0.00100000\n",
      "Epoch 60 \t Train: 0.46615  Val: 0.53634  Diff: -0.07019 \t lr: 0.00099987\n",
      "Epoch 61 \t Train: 0.46850  Val: 0.60698  Diff: -0.13847 \t lr: 0.00099949\n",
      "Epoch 62 \t Train: 0.46142  Val: 0.45240  Diff: 0.00902 \t lr: 0.00099886\n",
      "Epoch 63 \t Train: 0.45670  Val: 0.48444  Diff: -0.02774 \t lr: 0.00099798\n",
      "Epoch 64 \t Train: 0.45558  Val: 0.52561  Diff: -0.07003 \t lr: 0.00099685\n",
      "Epoch 65 \t Train: 0.45593  Val: 0.45171  Diff: 0.00422 \t lr: 0.00099547\n",
      "Epoch 66 \t Train: 0.45111  Val: 0.49232  Diff: -0.04121 \t lr: 0.00099383\n",
      "Epoch 67 \t Train: 0.45788  Val: 0.53669  Diff: -0.07881 \t lr: 0.00099195\n",
      "Epoch 68 \t Train: 0.43833  Val: 0.47237  Diff: -0.03404 \t lr: 0.00098982\n",
      "Epoch 69 \t Train: 0.43635  Val: 0.51272  Diff: -0.07637 \t lr: 0.00098745\n",
      "Epoch 70 \t Train: 0.42245  Val: 0.49223  Diff: -0.06977 \t lr: 0.00098483\n",
      "Epoch 71 \t Train: 0.42465  Val: 0.47748  Diff: -0.05283 \t lr: 0.00098196\n",
      "Epoch 72 \t Train: 0.40976  Val: 0.51569  Diff: -0.10592 \t lr: 0.00097885\n",
      "Epoch 73 \t Train: 0.41757  Val: 0.45218  Diff: -0.03461 \t lr: 0.00097551\n",
      "Epoch 74 \t Train: 0.41937  Val: 0.50223  Diff: -0.08286 \t lr: 0.00097192\n",
      "Epoch 75 \t Train: 0.41239  Val: 0.41597  Diff: -0.00358 \t lr: 0.00096809\n",
      "Epoch 76 \t Train: 0.41256  Val: 0.43293  Diff: -0.02037 \t lr: 0.00096403\n",
      "Epoch 77 \t Train: 0.40226  Val: 0.56807  Diff: -0.16581 \t lr: 0.00095974\n",
      "Epoch 78 \t Train: 0.39519  Val: 0.44012  Diff: -0.04493 \t lr: 0.00095521\n",
      "Epoch 79 \t Train: 0.38877  Val: 0.40537  Diff: -0.01659 \t lr: 0.00095045\n",
      "Epoch 80 \t Train: 0.39865  Val: 0.46598  Diff: -0.06733 \t lr: 0.00094547\n",
      "Epoch 81 \t Train: 0.38458  Val: 0.42907  Diff: -0.04449 \t lr: 0.00094026\n",
      "Epoch 82 \t Train: 0.39307  Val: 0.44806  Diff: -0.05499 \t lr: 0.00093484\n",
      "Epoch 83 \t Train: 0.37624  Val: 0.40906  Diff: -0.03282 \t lr: 0.00092919\n",
      "Epoch 84 \t Train: 0.37392  Val: 0.42535  Diff: -0.05143 \t lr: 0.00092333\n",
      "Epoch 85 \t Train: 0.37196  Val: 0.42431  Diff: -0.05235 \t lr: 0.00091725\n",
      "Epoch 86 \t Train: 0.37126  Val: 0.42499  Diff: -0.05373 \t lr: 0.00091096\n",
      "Epoch 87 \t Train: 0.35953  Val: 0.42824  Diff: -0.06871 \t lr: 0.00090447\n",
      "Epoch 88 \t Train: 0.35635  Val: 0.41704  Diff: -0.06069 \t lr: 0.00089777\n",
      "Epoch 89 \t Train: 0.36297  Val: 0.47310  Diff: -0.11013 \t lr: 0.00089087\n",
      "Epoch 90 \t Train: 0.35330  Val: 0.43636  Diff: -0.08306 \t lr: 0.00088378\n",
      "Epoch 91 \t Train: 0.35144  Val: 0.48259  Diff: -0.13116 \t lr: 0.00087649\n",
      "Epoch 92 \t Train: 0.35193  Val: 0.50544  Diff: -0.15350 \t lr: 0.00086901\n",
      "Epoch 93 \t Train: 0.33771  Val: 0.56382  Diff: -0.22611 \t lr: 0.00086135\n",
      "Epoch 94 \t Train: 0.33350  Val: 0.44181  Diff: -0.10832 \t lr: 0.00085351\n",
      "Epoch 95 \t Train: 0.33614  Val: 0.43995  Diff: -0.10381 \t lr: 0.00084548\n",
      "Epoch 96 \t Train: 0.34265  Val: 0.48896  Diff: -0.14631 \t lr: 0.00083729\n",
      "Epoch 97 \t Train: 0.33640  Val: 0.42423  Diff: -0.08783 \t lr: 0.00082892\n",
      "Epoch 98 \t Train: 0.32437  Val: 0.40815  Diff: -0.08378 \t lr: 0.00082039\n",
      "Epoch 99 \t Train: 0.33175  Val: 0.45223  Diff: -0.12048 \t lr: 0.00081169\n",
      "Epoch 100 \t Train: 0.31947  Val: 0.43976  Diff: -0.12029 \t lr: 0.00080284\n",
      "Epoch 101 \t Train: 0.31620  Val: 0.42365  Diff: -0.10745 \t lr: 0.00079384\n",
      "Epoch 102 \t Train: 0.31970  Val: 0.50458  Diff: -0.18488 \t lr: 0.00078469\n",
      "Epoch 103 \t Train: 0.31355  Val: 0.42566  Diff: -0.11212 \t lr: 0.00077540\n",
      "Epoch 104 \t Train: 0.30567  Val: 0.43150  Diff: -0.12583 \t lr: 0.00076596\n",
      "Epoch 105 \t Train: 0.32275  Val: 0.40116  Diff: -0.07842 \t lr: 0.00075640\n",
      "Epoch 106 \t Train: 0.29546  Val: 0.42299  Diff: -0.12753 \t lr: 0.00074670\n",
      "Epoch 107 \t Train: 0.29920  Val: 0.46250  Diff: -0.16330 \t lr: 0.00073688\n",
      "Epoch 108 \t Train: 0.28496  Val: 0.45035  Diff: -0.16539 \t lr: 0.00072694\n",
      "Epoch 109 \t Train: 0.28880  Val: 0.49266  Diff: -0.20387 \t lr: 0.00071689\n",
      "Epoch 110 \t Train: 0.28773  Val: 0.44192  Diff: -0.15418 \t lr: 0.00070672\n",
      "Epoch 111 \t Train: 0.29251  Val: 0.44172  Diff: -0.14920 \t lr: 0.00069646\n",
      "Epoch 112 \t Train: 0.27673  Val: 0.50277  Diff: -0.22604 \t lr: 0.00068609\n",
      "Epoch 113 \t Train: 0.28411  Val: 0.48108  Diff: -0.19698 \t lr: 0.00067563\n",
      "Epoch 114 \t Train: 0.28228  Val: 0.47814  Diff: -0.19585 \t lr: 0.00066508\n",
      "Epoch 115 \t Train: 0.26752  Val: 0.40763  Diff: -0.14011 \t lr: 0.00065445\n",
      "Epoch 116 \t Train: 0.26027  Val: 0.41407  Diff: -0.15381 \t lr: 0.00064374\n",
      "Epoch 117 \t Train: 0.27419  Val: 0.52058  Diff: -0.24639 \t lr: 0.00063296\n",
      "Epoch 118 \t Train: 0.26703  Val: 0.44314  Diff: -0.17611 \t lr: 0.00062211\n",
      "Epoch 119 \t Train: 0.26226  Val: 0.44241  Diff: -0.18015 \t lr: 0.00061120\n",
      "Epoch 120 \t Train: 0.26465  Val: 0.47507  Diff: -0.21041 \t lr: 0.00060024\n",
      "Epoch 121 \t Train: 0.27104  Val: 0.42673  Diff: -0.15569 \t lr: 0.00058922\n",
      "Epoch 122 \t Train: 0.25244  Val: 0.47381  Diff: -0.22137 \t lr: 0.00057816\n",
      "Epoch 123 \t Train: 0.25638  Val: 0.47780  Diff: -0.22141 \t lr: 0.00056706\n",
      "Epoch 124 \t Train: 0.25002  Val: 0.46952  Diff: -0.21950 \t lr: 0.00055593\n",
      "Epoch 125 \t Train: 0.26117  Val: 0.46363  Diff: -0.20246 \t lr: 0.00054476\n",
      "Epoch 126 \t Train: 0.24814  Val: 0.44569  Diff: -0.19755 \t lr: 0.00053358\n",
      "Epoch 127 \t Train: 0.23292  Val: 0.43675  Diff: -0.20383 \t lr: 0.00052238\n",
      "Epoch 128 \t Train: 0.24180  Val: 0.44866  Diff: -0.20686 \t lr: 0.00051116\n",
      "Epoch 129 \t Train: 0.23116  Val: 0.47096  Diff: -0.23980 \t lr: 0.00049995\n",
      "Epoch 130 \t Train: 0.23478  Val: 0.54326  Diff: -0.30848 \t lr: 0.00048873\n",
      "Epoch 131 \t Train: 0.24368  Val: 0.45014  Diff: -0.20646 \t lr: 0.00047751\n",
      "Epoch 132 \t Train: 0.23298  Val: 0.45902  Diff: -0.22603 \t lr: 0.00046631\n",
      "Epoch 133 \t Train: 0.22586  Val: 0.41771  Diff: -0.19185 \t lr: 0.00045513\n",
      "Epoch 134 \t Train: 0.22247  Val: 0.47945  Diff: -0.25698 \t lr: 0.00044397\n",
      "Epoch 135 \t Train: 0.21011  Val: 0.49566  Diff: -0.28555 \t lr: 0.00043283\n",
      "Epoch 136 \t Train: 0.22683  Val: 0.44488  Diff: -0.21805 \t lr: 0.00042173\n",
      "Epoch 137 \t Train: 0.24049  Val: 0.44946  Diff: -0.20897 \t lr: 0.00041067\n",
      "Epoch 138 \t Train: 0.21719  Val: 0.43736  Diff: -0.22017 \t lr: 0.00039966\n",
      "Epoch 139 \t Train: 0.21293  Val: 0.43235  Diff: -0.21942 \t lr: 0.00038869\n",
      "Epoch 140 \t Train: 0.20413  Val: 0.43347  Diff: -0.22934 \t lr: 0.00037778\n",
      "Epoch 141 \t Train: 0.19665  Val: 0.45696  Diff: -0.26030 \t lr: 0.00036693\n",
      "Epoch 142 \t Train: 0.19078  Val: 0.47276  Diff: -0.28198 \t lr: 0.00035615\n",
      "Epoch 143 \t Train: 0.19002  Val: 0.48915  Diff: -0.29913 \t lr: 0.00034545\n",
      "Epoch 144 \t Train: 0.18639  Val: 0.51063  Diff: -0.32424 \t lr: 0.00033482\n",
      "Epoch 145 \t Train: 0.18783  Val: 0.45994  Diff: -0.27211 \t lr: 0.00032427\n",
      "Epoch 146 \t Train: 0.19455  Val: 0.49083  Diff: -0.29628 \t lr: 0.00031381\n",
      "Epoch 147 \t Train: 0.17996  Val: 0.45799  Diff: -0.27804 \t lr: 0.00030345\n",
      "Epoch 148 \t Train: 0.20045  Val: 0.47266  Diff: -0.27221 \t lr: 0.00029318\n",
      "Epoch 149 \t Train: 0.19479  Val: 0.46064  Diff: -0.26585 \t lr: 0.00028302\n",
      "Epoch 150 \t Train: 0.18370  Val: 0.45866  Diff: -0.27496 \t lr: 0.00027297\n",
      "Epoch 151 \t Train: 0.16953  Val: 0.48980  Diff: -0.32027 \t lr: 0.00026303\n",
      "Epoch 152 \t Train: 0.17269  Val: 0.46312  Diff: -0.29044 \t lr: 0.00025321\n",
      "Epoch 153 \t Train: 0.17164  Val: 0.47927  Diff: -0.30762 \t lr: 0.00024352\n",
      "Epoch 154 \t Train: 0.16473  Val: 0.48564  Diff: -0.32092 \t lr: 0.00023395\n",
      "Epoch 155 \t Train: 0.17169  Val: 0.46996  Diff: -0.29827 \t lr: 0.00022452\n",
      "Epoch 156 \t Train: 0.15943  Val: 0.46855  Diff: -0.30912 \t lr: 0.00021523\n",
      "Epoch 157 \t Train: 0.17274  Val: 0.49632  Diff: -0.32358 \t lr: 0.00020608\n",
      "Epoch 158 \t Train: 0.16574  Val: 0.47674  Diff: -0.31100 \t lr: 0.00019708\n",
      "Epoch 159 \t Train: 0.17893  Val: 0.47025  Diff: -0.29132 \t lr: 0.00018823\n",
      "Epoch 160 \t Train: 0.17518  Val: 0.50299  Diff: -0.32781 \t lr: 0.00017954\n",
      "Epoch 161 \t Train: 0.14792  Val: 0.46046  Diff: -0.31254 \t lr: 0.00017101\n",
      "Epoch 162 \t Train: 0.15852  Val: 0.49059  Diff: -0.33207 \t lr: 0.00016264\n",
      "Epoch 163 \t Train: 0.17558  Val: 0.48908  Diff: -0.31350 \t lr: 0.00015445\n",
      "Epoch 164 \t Train: 0.15397  Val: 0.50370  Diff: -0.34973 \t lr: 0.00014643\n",
      "Epoch 165 \t Train: 0.15799  Val: 0.49797  Diff: -0.33998 \t lr: 0.00013859\n",
      "Epoch 166 \t Train: 0.14856  Val: 0.48896  Diff: -0.34040 \t lr: 0.00013092\n",
      "Epoch 167 \t Train: 0.14353  Val: 0.48385  Diff: -0.34032 \t lr: 0.00012345\n",
      "Epoch 168 \t Train: 0.14123  Val: 0.47277  Diff: -0.33153 \t lr: 0.00011617\n",
      "Epoch 169 \t Train: 0.13638  Val: 0.47346  Diff: -0.33708 \t lr: 0.00010907\n",
      "Epoch 170 \t Train: 0.15087  Val: 0.50219  Diff: -0.35132 \t lr: 0.00010218\n",
      "Epoch 171 \t Train: 0.14418  Val: 0.50993  Diff: -0.36575 \t lr: 0.00009548\n",
      "Epoch 172 \t Train: 0.14038  Val: 0.50028  Diff: -0.35990 \t lr: 0.00008899\n",
      "Epoch 173 \t Train: 0.14704  Val: 0.52473  Diff: -0.37769 \t lr: 0.00008271\n",
      "Epoch 174 \t Train: 0.14383  Val: 0.50292  Diff: -0.35909 \t lr: 0.00007664\n",
      "Epoch 175 \t Train: 0.13922  Val: 0.49106  Diff: -0.35184 \t lr: 0.00007077\n",
      "Epoch 176 \t Train: 0.13546  Val: 0.50700  Diff: -0.37154 \t lr: 0.00006513\n",
      "Epoch 177 \t Train: 0.13673  Val: 0.50564  Diff: -0.36891 \t lr: 0.00005970\n",
      "Epoch 178 \t Train: 0.14053  Val: 0.51570  Diff: -0.37517 \t lr: 0.00005450\n",
      "Epoch 179 \t Train: 0.13552  Val: 0.51764  Diff: -0.38213 \t lr: 0.00004952\n",
      "Epoch 180 \t Train: 0.14032  Val: 0.48930  Diff: -0.34897 \t lr: 0.00004477\n",
      "Epoch 181 \t Train: 0.14333  Val: 0.50254  Diff: -0.35921 \t lr: 0.00004025\n",
      "Epoch 182 \t Train: 0.14693  Val: 0.50189  Diff: -0.35496 \t lr: 0.00003595\n",
      "Epoch 183 \t Train: 0.13778  Val: 0.47408  Diff: -0.33631 \t lr: 0.00003190\n",
      "Epoch 184 \t Train: 0.13911  Val: 0.51049  Diff: -0.37138 \t lr: 0.00002807\n",
      "Epoch 185 \t Train: 0.14085  Val: 0.52287  Diff: -0.38202 \t lr: 0.00002449\n",
      "Epoch 186 \t Train: 0.14097  Val: 0.51774  Diff: -0.37677 \t lr: 0.00002114\n",
      "Epoch 187 \t Train: 0.13825  Val: 0.49016  Diff: -0.35190 \t lr: 0.00001804\n",
      "Epoch 188 \t Train: 0.13572  Val: 0.47605  Diff: -0.34033 \t lr: 0.00001518\n",
      "Epoch 189 \t Train: 0.12885  Val: 0.51803  Diff: -0.38917 \t lr: 0.00001256\n",
      "Epoch 190 \t Train: 0.13921  Val: 0.49531  Diff: -0.35609 \t lr: 0.00001019\n",
      "Epoch 191 \t Train: 0.13002  Val: 0.50609  Diff: -0.37607 \t lr: 0.00000806\n",
      "Epoch 192 \t Train: 0.12944  Val: 0.47278  Diff: -0.34334 \t lr: 0.00000618\n",
      "Epoch 193 \t Train: 0.13632  Val: 0.49535  Diff: -0.35903 \t lr: 0.00000455\n",
      "Epoch 194 \t Train: 0.14816  Val: 0.49227  Diff: -0.34411 \t lr: 0.00000318\n",
      "Epoch 195 \t Train: 0.12577  Val: 0.50942  Diff: -0.38365 \t lr: 0.00000205\n",
      "Epoch 196 \t Train: 0.13574  Val: 0.50324  Diff: -0.36750 \t lr: 0.00000117\n",
      "Epoch 197 \t Train: 0.13238  Val: 0.49610  Diff: -0.36372 \t lr: 0.00000054\n",
      "Epoch 198 \t Train: 0.12754  Val: 0.48556  Diff: -0.35801 \t lr: 0.00000016\n",
      "Epoch 199 \t Train: 0.13409  Val: 0.50450  Diff: -0.37042 \t lr: 0.00000004\n"
     ]
    }
   ],
   "source": [
    "all_train_losses = []\n",
    "all_val_losses = []\n",
    "\n",
    "for i in range(EPOCHS):\n",
    "    train_loss = train(model, train_dl, loss_func, optimizer, scheduler, DEVICE)\n",
    "    val_loss = val(model, val_dl, loss_func, DEVICE)\n",
    "\n",
    "    diff = train_loss-val_loss\n",
    "\n",
    "    print(f'Epoch {i} \\t Train: {train_loss:.5f}  Val: {val_loss:.5f}  Diff: {diff:.5f} \\t lr: {optimizer.param_groups[0][\"lr\"]:.8f}')\n",
    "\n",
    "    torch.save(model.state_dict(), os.path.join(OUTPUT_PATH, f'model_{i + MODEL_NUM_OFFSET}.pt'))\n",
    "\n",
    "    all_train_losses.append(train_loss)\n",
    "    all_val_losses.append(val_loss)\n",
    "\n",
    "    # if diff <= -0.2: break"
   ]
  },
  {
   "cell_type": "code",
   "execution_count": 196,
   "metadata": {
    "execution": {
     "iopub.execute_input": "2025-01-13T03:08:38.126676Z",
     "iopub.status.busy": "2025-01-13T03:08:38.126403Z",
     "iopub.status.idle": "2025-01-13T03:08:38.339078Z",
     "shell.execute_reply": "2025-01-13T03:08:38.338206Z",
     "shell.execute_reply.started": "2025-01-13T03:08:38.126650Z"
    },
    "trusted": true
   },
   "outputs": [
    {
     "data": {
      "image/png": "[encoded data removed]",
      "text/plain": [
       "<Figure size 640x480 with 1 Axes>"
      ]
     },
     "metadata": {},
     "output_type": "display_data"
    }
   ],
   "source": [
    "plt.plot(all_train_losses)\n",
    "plt.plot(all_val_losses)\n",
    "plt.show()"
   ]
  },
  {
   "cell_type": "code",
   "execution_count": 197,
   "metadata": {
    "execution": {
     "iopub.execute_input": "2025-01-13T03:08:38.340407Z",
     "iopub.status.busy": "2025-01-13T03:08:38.340186Z",
     "iopub.status.idle": "2025-01-13T03:08:38.347179Z",
     "shell.execute_reply": "2025-01-13T03:08:38.346312Z",
     "shell.execute_reply.started": "2025-01-13T03:08:38.340387Z"
    },
    "trusted": true
   },
   "outputs": [],
   "source": [
    "pd.DataFrame({\n",
    "    'train': all_train_losses,\n",
    "    'test': all_val_losses,\n",
    "}).to_csv('/kaggle/working/losses1.csv')"
   ]
  },
  {
   "cell_type": "code",
   "execution_count": 199,
   "metadata": {
    "execution": {
     "iopub.execute_input": "2025-01-13T03:19:09.258747Z",
     "iopub.status.busy": "2025-01-13T03:19:09.258454Z",
     "iopub.status.idle": "2025-01-13T03:19:09.264610Z",
     "shell.execute_reply": "2025-01-13T03:19:09.263686Z",
     "shell.execute_reply.started": "2025-01-13T03:19:09.258723Z"
    },
    "trusted": true
   },
   "outputs": [
    {
     "data": {
      "text/plain": [
       "105"
      ]
     },
     "execution_count": 199,
     "metadata": {},
     "output_type": "execute_result"
    }
   ],
   "source": [
    "np.argmin(all_val_losses)"
   ]
  },
  {
   "cell_type": "code",
   "execution_count": 200,
   "metadata": {
    "execution": {
     "iopub.execute_input": "2025-01-13T03:19:21.905819Z",
     "iopub.status.busy": "2025-01-13T03:19:21.905493Z",
     "iopub.status.idle": "2025-01-13T03:19:21.910783Z",
     "shell.execute_reply": "2025-01-13T03:19:21.909980Z",
     "shell.execute_reply.started": "2025-01-13T03:19:21.905789Z"
    },
    "trusted": true
   },
   "outputs": [
    {
     "data": {
      "text/plain": [
       "0.40116241574287415"
      ]
     },
     "execution_count": 200,
     "metadata": {},
     "output_type": "execute_result"
    }
   ],
   "source": [
    "all_val_losses[105]"
   ]
  },
  {
   "cell_type": "code",
   "execution_count": null,
   "metadata": {
    "trusted": true
   },
   "outputs": [],
   "source": []
  }
 ],
 "metadata": {
  "kaggle": {
   "accelerator": "gpu",
   "dataSources": [
    {
     "databundleVersionId": 10327706,
     "sourceId": 89564,
     "sourceType": "competition"
    }
   ],
   "dockerImageVersionId": 30823,
   "isGpuEnabled": true,
   "isInternetEnabled": true,
   "language": "python",
   "sourceType": "notebook"
  },
  "kernelspec": {
   "display_name": "deep-learning",
   "language": "python",
   "name": "python3"
  },
  "language_info": {
   "codemirror_mode": {
    "name": "ipython",
    "version": 3
   },
   "file_extension": ".py",
   "mimetype": "text/x-python",
   "name": "python",
   "nbconvert_exporter": "python",
   "pygments_lexer": "ipython3",
   "version": "3.9.21"
  }
 },
 "nbformat": 4,
 "nbformat_minor": 4
}
